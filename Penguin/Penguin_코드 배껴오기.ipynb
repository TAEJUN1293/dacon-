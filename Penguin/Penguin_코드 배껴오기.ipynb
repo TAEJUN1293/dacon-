{
 "cells": [
  {
   "cell_type": "code",
   "execution_count": 1,
   "id": "6ca3e050",
   "metadata": {},
   "outputs": [],
   "source": [
    "import numpy as np\n",
    "import pandas as pd\n",
    "import matplotlib.pyplot as plt\n",
    "from pandas import set_option\n",
    "from pandas.plotting import scatter_matrix\n",
    "from sklearn.model_selection import train_test_split\n",
    "from sklearn.model_selection import KFold\n",
    "from sklearn.model_selection import cross_val_score\n",
    "from sklearn.model_selection import GridSearchCV\n",
    "from sklearn.linear_model import LinearRegression\n",
    "from sklearn.linear_model import LogisticRegression\n",
    "from sklearn.linear_model import Lasso\n",
    "from sklearn.linear_model import ElasticNet\n",
    "from sklearn.tree import DecisionTreeRegressor\n",
    "from sklearn.neighbors import KNeighborsRegressor\n",
    "from sklearn.svm import SVR\n",
    "from sklearn.pipeline import Pipeline\n",
    "from sklearn.ensemble import RandomForestRegressor, RandomForestClassifier\n",
    "from sklearn.ensemble import GradientBoostingRegressor\n",
    "from sklearn.ensemble import ExtraTreesRegressor\n",
    "from sklearn.ensemble import AdaBoostRegressor, AdaBoostClassifier\n",
    "from sklearn.metrics import mean_squared_error\n",
    "from xgboost import XGBRegressor, XGBClassifier\n",
    "from lightgbm import LGBMRegressor, LGBMClassifier\n",
    "from catboost import CatBoostRegressor, CatBoostClassifier\n",
    "from sklearn.tree import DecisionTreeClassifier\n",
    "from sklearn.neighbors import KNeighborsClassifier\n",
    "from sklearn.discriminant_analysis import LinearDiscriminantAnalysis\n",
    "from sklearn.naive_bayes import GaussianNB\n",
    "from sklearn.svm import SVC\n",
    "from sklearn import preprocessing\n",
    "import seaborn as sns"
   ]
  },
  {
   "cell_type": "code",
   "execution_count": 2,
   "id": "3016acfd",
   "metadata": {},
   "outputs": [],
   "source": [
    "# 데이터 로딩\n",
    "df_train = pd.read_csv('C:/Users/wnrrh/desktop/dacon/penguin/train.csv')\n",
    "df_test = pd.read_csv('C:/Users/wnrrh/desktop/dacon/penguin/test.csv')\n",
    "ss = pd.read_csv('C:/Users/wnrrh/desktop/dacon/penguin/sample_submission.csv')"
   ]
  },
  {
   "cell_type": "code",
   "execution_count": 3,
   "id": "b804aa71",
   "metadata": {},
   "outputs": [],
   "source": [
    "# 불필요한 컬럼 제거\n",
    "df_train.drop(['id'],axis=1, inplace=True)\n",
    "df_test.drop(['id'],axis=1, inplace=True)"
   ]
  },
  {
   "cell_type": "code",
   "execution_count": 4,
   "id": "71826006",
   "metadata": {},
   "outputs": [
    {
     "name": "stdout",
     "output_type": "stream",
     "text": [
      "i: Species\n",
      "Gentoo penguin (Pygoscelis papua)            48\n",
      "Adelie Penguin (Pygoscelis adeliae)          41\n",
      "Chinstrap penguin (Pygoscelis antarctica)    25\n",
      "Name: Species, dtype: int64 \n",
      "\n",
      "i: Island\n",
      "Biscoe       57\n",
      "Dream        44\n",
      "Torgersen    13\n",
      "Name: Island, dtype: int64 \n",
      "\n",
      "i: Clutch Completion\n",
      "Yes    102\n",
      "No      12\n",
      "Name: Clutch Completion, dtype: int64 \n",
      "\n",
      "i: Sex\n",
      "MALE      56\n",
      "FEMALE    55\n",
      "Name: Sex, dtype: int64 \n",
      "\n"
     ]
    }
   ],
   "source": [
    "ob_cols = df_train.dtypes[df_train.dtypes == 'object'].index.tolist()\n",
    "for i in ob_cols:\n",
    "    print('i:', i)\n",
    "    print(df_train[i].value_counts(),'\\n')"
   ]
  },
  {
   "cell_type": "code",
   "execution_count": 5,
   "id": "82bc780b",
   "metadata": {},
   "outputs": [
    {
     "name": "stdout",
     "output_type": "stream",
     "text": [
      "결측치가 있는 컬럼은: Sex입니다\n",
      "해당 컬럼에 총 3개의 결측치가 존재합니다.\n",
      "결측치가 있는 컬럼은: Delta 15 N (o/oo)입니다\n",
      "해당 컬럼에 총 3개의 결측치가 존재합니다.\n",
      "결측치가 있는 컬럼은: Delta 13 C (o/oo)입니다\n",
      "해당 컬럼에 총 3개의 결측치가 존재합니다.\n"
     ]
    }
   ],
   "source": [
    "# 훈련 데이터 내 결측치 확인\n",
    "def check_missing_col(dataframe):\n",
    "    missing_col = []\n",
    "    counted_missing_col = 0\n",
    "    for i, col in enumerate(dataframe.columns):\n",
    "        missing_values = sum(dataframe[col].isna())\n",
    "        is_missing = True if missing_values >= 1 else False\n",
    "        if is_missing:\n",
    "            counted_missing_col += 1\n",
    "            print(f'결측치가 있는 컬럼은: {col}입니다')\n",
    "            print(f'해당 컬럼에 총 {missing_values}개의 결측치가 존재합니다.')\n",
    "            missing_col.append([col, dataframe[col].dtype])\n",
    "    if counted_missing_col == 0:\n",
    "        print('결측치가 존재하지 않습니다')\n",
    "    return missing_col\n",
    "\n",
    "missing_col = check_missing_col(df_train)"
   ]
  },
  {
   "cell_type": "code",
   "execution_count": 6,
   "id": "a46f763f",
   "metadata": {},
   "outputs": [
    {
     "name": "stdout",
     "output_type": "stream",
     "text": [
      "결측치가 있는 컬럼은: Sex입니다\n",
      "해당 컬럼에 총 6개의 결측치가 존재합니다.\n",
      "결측치가 있는 컬럼은: Delta 15 N (o/oo)입니다\n",
      "해당 컬럼에 총 9개의 결측치가 존재합니다.\n",
      "결측치가 있는 컬럼은: Delta 13 C (o/oo)입니다\n",
      "해당 컬럼에 총 8개의 결측치가 존재합니다.\n"
     ]
    }
   ],
   "source": [
    "# 테스트 데이터 내 결측치 확인\n",
    "missing_val = check_missing_col(df_test)"
   ]
  },
  {
   "cell_type": "markdown",
   "id": "eca0b2ec",
   "metadata": {},
   "source": [
    "Sex,Clutch Completion 는 male은 1, female은 0, Yes 는 1, No 는 0으로 처리\n",
    "\n",
    "Island와 Species는 원 핫 인코딩으로 처리"
   ]
  },
  {
   "cell_type": "code",
   "execution_count": 7,
   "id": "e96ac333",
   "metadata": {},
   "outputs": [],
   "source": [
    "df_train['Sex']=np.where(df_train['Sex'].values=='MALE',1,np.where(df_train['Sex'].values=='FEMALE',0,np.nan))\n",
    "df_test['Sex']=np.where(df_test['Sex'].values=='MALE',1,np.where(df_test['Sex'].values=='FEMALE',0,np.nan))\n",
    "df_train['Clutch Completion']=np.where(df_train['Clutch Completion'].values=='Yes',1,0)\n",
    "df_test['Clutch Completion']=np.where(df_test['Clutch Completion'].values=='Yes',1,0)\n",
    "train = pd.concat([df_train,pd.get_dummies(df_train[['Island','Species']])],axis=1)\n",
    "test = pd.concat([df_test,pd.get_dummies(df_test[['Island','Species']])],axis=1)\n",
    "train = train.drop(['Island','Species'],axis=1)\n",
    "test = test.drop(['Island','Species'],axis=1)"
   ]
  },
  {
   "cell_type": "code",
   "execution_count": 8,
   "id": "2119ade0",
   "metadata": {},
   "outputs": [
    {
     "data": {
      "image/png": "[encoded data removed]",
      "text/plain": [
       "<Figure size 432x288 with 1 Axes>"
      ]
     },
     "metadata": {
      "needs_background": "light"
     },
     "output_type": "display_data"
    }
   ],
   "source": [
    "sns.boxplot(x='Island', y='Delta 15 N (o/oo)', data=df_train[['Island','Delta 15 N (o/oo)']])\n",
    "plt.show()"
   ]
  },
  {
   "cell_type": "code",
   "execution_count": 9,
   "id": "d49bf39c",
   "metadata": {},
   "outputs": [
    {
     "data": {
      "image/png": "[encoded data removed]",
      "text/plain": [
       "<Figure size 1080x576 with 1 Axes>"
      ]
     },
     "metadata": {},
     "output_type": "display_data"
    }
   ],
   "source": [
    "sns.set(rc = {'figure.figsize':(15,8)})\n",
    "sns.boxplot(x='Species', y='Delta 15 N (o/oo)',hue = 'Island', data=df_train[['Island','Species','Delta 15 N (o/oo)']])\n",
    "plt.show()"
   ]
  },
  {
   "cell_type": "code",
   "execution_count": 10,
   "id": "05a90fd9",
   "metadata": {},
   "outputs": [
    {
     "data": {
      "image/png": "[encoded data removed]",
      "text/plain": [
       "<Figure size 1080x576 with 1 Axes>"
      ]
     },
     "metadata": {},
     "output_type": "display_data"
    }
   ],
   "source": [
    "sns.set(rc = {'figure.figsize':(15,8)})\n",
    "sns.boxplot(x='Species', y='Delta 13 C (o/oo)',hue = 'Island', data=df_train[['Island','Species','Delta 13 C (o/oo)']])\n",
    "plt.show()"
   ]
  },
  {
   "cell_type": "code",
   "execution_count": 11,
   "id": "234b71b2",
   "metadata": {},
   "outputs": [
    {
     "data": {
      "text/html": [
       "<div>\n",
       "<style scoped>\n",
       "    .dataframe tbody tr th:only-of-type {\n",
       "        vertical-align: middle;\n",
       "    }\n",
       "\n",
       "    .dataframe tbody tr th {\n",
       "        vertical-align: top;\n",
       "    }\n",
       "\n",
       "    .dataframe thead th {\n",
       "        text-align: right;\n",
       "    }\n",
       "</style>\n",
       "<table border=\"1\" class=\"dataframe\">\n",
       "  <thead>\n",
       "    <tr style=\"text-align: right;\">\n",
       "      <th></th>\n",
       "      <th>Clutch Completion</th>\n",
       "      <th>Culmen Length (mm)</th>\n",
       "      <th>Culmen Depth (mm)</th>\n",
       "      <th>Flipper Length (mm)</th>\n",
       "      <th>Sex</th>\n",
       "      <th>Delta 15 N (o/oo)</th>\n",
       "      <th>Delta 13 C (o/oo)</th>\n",
       "      <th>Body Mass (g)</th>\n",
       "      <th>Island_Biscoe</th>\n",
       "      <th>Island_Dream</th>\n",
       "      <th>Island_Torgersen</th>\n",
       "      <th>Species_Adelie Penguin (Pygoscelis adeliae)</th>\n",
       "      <th>Species_Chinstrap penguin (Pygoscelis antarctica)</th>\n",
       "      <th>Species_Gentoo penguin (Pygoscelis papua)</th>\n",
       "    </tr>\n",
       "  </thead>\n",
       "  <tbody>\n",
       "    <tr>\n",
       "      <th>Clutch Completion</th>\n",
       "      <td>1.00</td>\n",
       "      <td>-0.12</td>\n",
       "      <td>-0.21</td>\n",
       "      <td>0.11</td>\n",
       "      <td>-1.13e-01</td>\n",
       "      <td>-0.28</td>\n",
       "      <td>-0.29</td>\n",
       "      <td>0.09</td>\n",
       "      <td>2.29e-01</td>\n",
       "      <td>-3.15e-01</td>\n",
       "      <td>0.12</td>\n",
       "      <td>0.08</td>\n",
       "      <td>-0.30</td>\n",
       "      <td>0.18</td>\n",
       "    </tr>\n",
       "    <tr>\n",
       "      <th>Culmen Length (mm)</th>\n",
       "      <td>-0.12</td>\n",
       "      <td>1.00</td>\n",
       "      <td>-0.25</td>\n",
       "      <td>0.67</td>\n",
       "      <td>3.24e-01</td>\n",
       "      <td>-0.04</td>\n",
       "      <td>0.11</td>\n",
       "      <td>0.57</td>\n",
       "      <td>2.97e-01</td>\n",
       "      <td>-4.72e-02</td>\n",
       "      <td>-0.39</td>\n",
       "      <td>-0.82</td>\n",
       "      <td>0.38</td>\n",
       "      <td>0.48</td>\n",
       "    </tr>\n",
       "    <tr>\n",
       "      <th>Culmen Depth (mm)</th>\n",
       "      <td>-0.21</td>\n",
       "      <td>-0.25</td>\n",
       "      <td>1.00</td>\n",
       "      <td>-0.60</td>\n",
       "      <td>3.69e-01</td>\n",
       "      <td>0.65</td>\n",
       "      <td>0.48</td>\n",
       "      <td>-0.49</td>\n",
       "      <td>-7.25e-01</td>\n",
       "      <td>5.60e-01</td>\n",
       "      <td>0.28</td>\n",
       "      <td>0.52</td>\n",
       "      <td>0.38</td>\n",
       "      <td>-0.83</td>\n",
       "    </tr>\n",
       "    <tr>\n",
       "      <th>Flipper Length (mm)</th>\n",
       "      <td>0.11</td>\n",
       "      <td>0.67</td>\n",
       "      <td>-0.60</td>\n",
       "      <td>1.00</td>\n",
       "      <td>2.51e-01</td>\n",
       "      <td>-0.53</td>\n",
       "      <td>-0.45</td>\n",
       "      <td>0.86</td>\n",
       "      <td>7.40e-01</td>\n",
       "      <td>-5.66e-01</td>\n",
       "      <td>-0.30</td>\n",
       "      <td>-0.69</td>\n",
       "      <td>-0.25</td>\n",
       "      <td>0.88</td>\n",
       "    </tr>\n",
       "    <tr>\n",
       "      <th>Sex</th>\n",
       "      <td>-0.11</td>\n",
       "      <td>0.32</td>\n",
       "      <td>0.37</td>\n",
       "      <td>0.25</td>\n",
       "      <td>1.00e+00</td>\n",
       "      <td>0.14</td>\n",
       "      <td>-0.10</td>\n",
       "      <td>0.42</td>\n",
       "      <td>-9.09e-03</td>\n",
       "      <td>-7.30e-03</td>\n",
       "      <td>0.03</td>\n",
       "      <td>0.05</td>\n",
       "      <td>-0.07</td>\n",
       "      <td>0.01</td>\n",
       "    </tr>\n",
       "    <tr>\n",
       "      <th>Delta 15 N (o/oo)</th>\n",
       "      <td>-0.28</td>\n",
       "      <td>-0.04</td>\n",
       "      <td>0.65</td>\n",
       "      <td>-0.53</td>\n",
       "      <td>1.36e-01</td>\n",
       "      <td>1.00</td>\n",
       "      <td>0.64</td>\n",
       "      <td>-0.55</td>\n",
       "      <td>-6.44e-01</td>\n",
       "      <td>7.03e-01</td>\n",
       "      <td>-0.07</td>\n",
       "      <td>0.17</td>\n",
       "      <td>0.65</td>\n",
       "      <td>-0.71</td>\n",
       "    </tr>\n",
       "    <tr>\n",
       "      <th>Delta 13 C (o/oo)</th>\n",
       "      <td>-0.29</td>\n",
       "      <td>0.11</td>\n",
       "      <td>0.48</td>\n",
       "      <td>-0.45</td>\n",
       "      <td>-9.94e-02</td>\n",
       "      <td>0.64</td>\n",
       "      <td>1.00</td>\n",
       "      <td>-0.47</td>\n",
       "      <td>-5.89e-01</td>\n",
       "      <td>6.74e-01</td>\n",
       "      <td>-0.11</td>\n",
       "      <td>-0.09</td>\n",
       "      <td>0.76</td>\n",
       "      <td>-0.56</td>\n",
       "    </tr>\n",
       "    <tr>\n",
       "      <th>Body Mass (g)</th>\n",
       "      <td>0.09</td>\n",
       "      <td>0.57</td>\n",
       "      <td>-0.49</td>\n",
       "      <td>0.86</td>\n",
       "      <td>4.20e-01</td>\n",
       "      <td>-0.55</td>\n",
       "      <td>-0.47</td>\n",
       "      <td>1.00</td>\n",
       "      <td>7.08e-01</td>\n",
       "      <td>-5.74e-01</td>\n",
       "      <td>-0.24</td>\n",
       "      <td>-0.51</td>\n",
       "      <td>-0.39</td>\n",
       "      <td>0.82</td>\n",
       "    </tr>\n",
       "    <tr>\n",
       "      <th>Island_Biscoe</th>\n",
       "      <td>0.23</td>\n",
       "      <td>0.30</td>\n",
       "      <td>-0.72</td>\n",
       "      <td>0.74</td>\n",
       "      <td>-9.09e-03</td>\n",
       "      <td>-0.64</td>\n",
       "      <td>-0.59</td>\n",
       "      <td>0.71</td>\n",
       "      <td>1.00e+00</td>\n",
       "      <td>-7.93e-01</td>\n",
       "      <td>-0.36</td>\n",
       "      <td>-0.42</td>\n",
       "      <td>-0.53</td>\n",
       "      <td>0.85</td>\n",
       "    </tr>\n",
       "    <tr>\n",
       "      <th>Island_Dream</th>\n",
       "      <td>-0.32</td>\n",
       "      <td>-0.05</td>\n",
       "      <td>0.56</td>\n",
       "      <td>-0.57</td>\n",
       "      <td>-7.30e-03</td>\n",
       "      <td>0.70</td>\n",
       "      <td>0.67</td>\n",
       "      <td>-0.57</td>\n",
       "      <td>-7.93e-01</td>\n",
       "      <td>1.00e+00</td>\n",
       "      <td>-0.28</td>\n",
       "      <td>0.12</td>\n",
       "      <td>0.67</td>\n",
       "      <td>-0.68</td>\n",
       "    </tr>\n",
       "    <tr>\n",
       "      <th>Island_Torgersen</th>\n",
       "      <td>0.12</td>\n",
       "      <td>-0.39</td>\n",
       "      <td>0.28</td>\n",
       "      <td>-0.30</td>\n",
       "      <td>2.72e-02</td>\n",
       "      <td>-0.07</td>\n",
       "      <td>-0.11</td>\n",
       "      <td>-0.24</td>\n",
       "      <td>-3.59e-01</td>\n",
       "      <td>-2.84e-01</td>\n",
       "      <td>1.00</td>\n",
       "      <td>0.48</td>\n",
       "      <td>-0.19</td>\n",
       "      <td>-0.31</td>\n",
       "    </tr>\n",
       "    <tr>\n",
       "      <th>Species_Adelie Penguin (Pygoscelis adeliae)</th>\n",
       "      <td>0.08</td>\n",
       "      <td>-0.82</td>\n",
       "      <td>0.52</td>\n",
       "      <td>-0.69</td>\n",
       "      <td>5.00e-02</td>\n",
       "      <td>0.17</td>\n",
       "      <td>-0.09</td>\n",
       "      <td>-0.51</td>\n",
       "      <td>-4.20e-01</td>\n",
       "      <td>1.19e-01</td>\n",
       "      <td>0.48</td>\n",
       "      <td>1.00</td>\n",
       "      <td>-0.40</td>\n",
       "      <td>-0.64</td>\n",
       "    </tr>\n",
       "    <tr>\n",
       "      <th>Species_Chinstrap penguin (Pygoscelis antarctica)</th>\n",
       "      <td>-0.30</td>\n",
       "      <td>0.38</td>\n",
       "      <td>0.38</td>\n",
       "      <td>-0.25</td>\n",
       "      <td>-6.96e-02</td>\n",
       "      <td>0.65</td>\n",
       "      <td>0.76</td>\n",
       "      <td>-0.39</td>\n",
       "      <td>-5.30e-01</td>\n",
       "      <td>6.68e-01</td>\n",
       "      <td>-0.19</td>\n",
       "      <td>-0.40</td>\n",
       "      <td>1.00</td>\n",
       "      <td>-0.45</td>\n",
       "    </tr>\n",
       "    <tr>\n",
       "      <th>Species_Gentoo penguin (Pygoscelis papua)</th>\n",
       "      <td>0.18</td>\n",
       "      <td>0.48</td>\n",
       "      <td>-0.83</td>\n",
       "      <td>0.88</td>\n",
       "      <td>1.05e-02</td>\n",
       "      <td>-0.71</td>\n",
       "      <td>-0.56</td>\n",
       "      <td>0.82</td>\n",
       "      <td>8.53e-01</td>\n",
       "      <td>-6.76e-01</td>\n",
       "      <td>-0.31</td>\n",
       "      <td>-0.64</td>\n",
       "      <td>-0.45</td>\n",
       "      <td>1.00</td>\n",
       "    </tr>\n",
       "  </tbody>\n",
       "</table>\n",
       "</div>"
      ],
      "text/plain": [
       "                                                   Clutch Completion  \\\n",
       "Clutch Completion                                               1.00   \n",
       "Culmen Length (mm)                                             -0.12   \n",
       "Culmen Depth (mm)                                              -0.21   \n",
       "Flipper Length (mm)                                             0.11   \n",
       "Sex                                                            -0.11   \n",
       "Delta 15 N (o/oo)                                              -0.28   \n",
       "Delta 13 C (o/oo)                                              -0.29   \n",
       "Body Mass (g)                                                   0.09   \n",
       "Island_Biscoe                                                   0.23   \n",
       "Island_Dream                                                   -0.32   \n",
       "Island_Torgersen                                                0.12   \n",
       "Species_Adelie Penguin (Pygoscelis adeliae)                     0.08   \n",
       "Species_Chinstrap penguin (Pygoscelis antarctica)              -0.30   \n",
       "Species_Gentoo penguin (Pygoscelis papua)                       0.18   \n",
       "\n",
       "                                                   Culmen Length (mm)  \\\n",
       "Clutch Completion                                               -0.12   \n",
       "Culmen Length (mm)                                               1.00   \n",
       "Culmen Depth (mm)                                               -0.25   \n",
       "Flipper Length (mm)                                              0.67   \n",
       "Sex                                                              0.32   \n",
       "Delta 15 N (o/oo)                                               -0.04   \n",
       "Delta 13 C (o/oo)                                                0.11   \n",
       "Body Mass (g)                                                    0.57   \n",
       "Island_Biscoe                                                    0.30   \n",
       "Island_Dream                                                    -0.05   \n",
       "Island_Torgersen                                                -0.39   \n",
       "Species_Adelie Penguin (Pygoscelis adeliae)                     -0.82   \n",
       "Species_Chinstrap penguin (Pygoscelis antarctica)                0.38   \n",
       "Species_Gentoo penguin (Pygoscelis papua)                        0.48   \n",
       "\n",
       "                                                   Culmen Depth (mm)  \\\n",
       "Clutch Completion                                              -0.21   \n",
       "Culmen Length (mm)                                             -0.25   \n",
       "Culmen Depth (mm)                                               1.00   \n",
       "Flipper Length (mm)                                            -0.60   \n",
       "Sex                                                             0.37   \n",
       "Delta 15 N (o/oo)                                               0.65   \n",
       "Delta 13 C (o/oo)                                               0.48   \n",
       "Body Mass (g)                                                  -0.49   \n",
       "Island_Biscoe                                                  -0.72   \n",
       "Island_Dream                                                    0.56   \n",
       "Island_Torgersen                                                0.28   \n",
       "Species_Adelie Penguin (Pygoscelis adeliae)                     0.52   \n",
       "Species_Chinstrap penguin (Pygoscelis antarctica)               0.38   \n",
       "Species_Gentoo penguin (Pygoscelis papua)                      -0.83   \n",
       "\n",
       "                                                   Flipper Length (mm)  \\\n",
       "Clutch Completion                                                 0.11   \n",
       "Culmen Length (mm)                                                0.67   \n",
       "Culmen Depth (mm)                                                -0.60   \n",
       "Flipper Length (mm)                                               1.00   \n",
       "Sex                                                               0.25   \n",
       "Delta 15 N (o/oo)                                                -0.53   \n",
       "Delta 13 C (o/oo)                                                -0.45   \n",
       "Body Mass (g)                                                     0.86   \n",
       "Island_Biscoe                                                     0.74   \n",
       "Island_Dream                                                     -0.57   \n",
       "Island_Torgersen                                                 -0.30   \n",
       "Species_Adelie Penguin (Pygoscelis adeliae)                      -0.69   \n",
       "Species_Chinstrap penguin (Pygoscelis antarctica)                -0.25   \n",
       "Species_Gentoo penguin (Pygoscelis papua)                         0.88   \n",
       "\n",
       "                                                        Sex  \\\n",
       "Clutch Completion                                 -1.13e-01   \n",
       "Culmen Length (mm)                                 3.24e-01   \n",
       "Culmen Depth (mm)                                  3.69e-01   \n",
       "Flipper Length (mm)                                2.51e-01   \n",
       "Sex                                                1.00e+00   \n",
       "Delta 15 N (o/oo)                                  1.36e-01   \n",
       "Delta 13 C (o/oo)                                 -9.94e-02   \n",
       "Body Mass (g)                                      4.20e-01   \n",
       "Island_Biscoe                                     -9.09e-03   \n",
       "Island_Dream                                      -7.30e-03   \n",
       "Island_Torgersen                                   2.72e-02   \n",
       "Species_Adelie Penguin (Pygoscelis adeliae)        5.00e-02   \n",
       "Species_Chinstrap penguin (Pygoscelis antarctica) -6.96e-02   \n",
       "Species_Gentoo penguin (Pygoscelis papua)          1.05e-02   \n",
       "\n",
       "                                                   Delta 15 N (o/oo)  \\\n",
       "Clutch Completion                                              -0.28   \n",
       "Culmen Length (mm)                                             -0.04   \n",
       "Culmen Depth (mm)                                               0.65   \n",
       "Flipper Length (mm)                                            -0.53   \n",
       "Sex                                                             0.14   \n",
       "Delta 15 N (o/oo)                                               1.00   \n",
       "Delta 13 C (o/oo)                                               0.64   \n",
       "Body Mass (g)                                                  -0.55   \n",
       "Island_Biscoe                                                  -0.64   \n",
       "Island_Dream                                                    0.70   \n",
       "Island_Torgersen                                               -0.07   \n",
       "Species_Adelie Penguin (Pygoscelis adeliae)                     0.17   \n",
       "Species_Chinstrap penguin (Pygoscelis antarctica)               0.65   \n",
       "Species_Gentoo penguin (Pygoscelis papua)                      -0.71   \n",
       "\n",
       "                                                   Delta 13 C (o/oo)  \\\n",
       "Clutch Completion                                              -0.29   \n",
       "Culmen Length (mm)                                              0.11   \n",
       "Culmen Depth (mm)                                               0.48   \n",
       "Flipper Length (mm)                                            -0.45   \n",
       "Sex                                                            -0.10   \n",
       "Delta 15 N (o/oo)                                               0.64   \n",
       "Delta 13 C (o/oo)                                               1.00   \n",
       "Body Mass (g)                                                  -0.47   \n",
       "Island_Biscoe                                                  -0.59   \n",
       "Island_Dream                                                    0.67   \n",
       "Island_Torgersen                                               -0.11   \n",
       "Species_Adelie Penguin (Pygoscelis adeliae)                    -0.09   \n",
       "Species_Chinstrap penguin (Pygoscelis antarctica)               0.76   \n",
       "Species_Gentoo penguin (Pygoscelis papua)                      -0.56   \n",
       "\n",
       "                                                   Body Mass (g)  \\\n",
       "Clutch Completion                                           0.09   \n",
       "Culmen Length (mm)                                          0.57   \n",
       "Culmen Depth (mm)                                          -0.49   \n",
       "Flipper Length (mm)                                         0.86   \n",
       "Sex                                                         0.42   \n",
       "Delta 15 N (o/oo)                                          -0.55   \n",
       "Delta 13 C (o/oo)                                          -0.47   \n",
       "Body Mass (g)                                               1.00   \n",
       "Island_Biscoe                                               0.71   \n",
       "Island_Dream                                               -0.57   \n",
       "Island_Torgersen                                           -0.24   \n",
       "Species_Adelie Penguin (Pygoscelis adeliae)                -0.51   \n",
       "Species_Chinstrap penguin (Pygoscelis antarctica)          -0.39   \n",
       "Species_Gentoo penguin (Pygoscelis papua)                   0.82   \n",
       "\n",
       "                                                   Island_Biscoe  \\\n",
       "Clutch Completion                                       2.29e-01   \n",
       "Culmen Length (mm)                                      2.97e-01   \n",
       "Culmen Depth (mm)                                      -7.25e-01   \n",
       "Flipper Length (mm)                                     7.40e-01   \n",
       "Sex                                                    -9.09e-03   \n",
       "Delta 15 N (o/oo)                                      -6.44e-01   \n",
       "Delta 13 C (o/oo)                                      -5.89e-01   \n",
       "Body Mass (g)                                           7.08e-01   \n",
       "Island_Biscoe                                           1.00e+00   \n",
       "Island_Dream                                           -7.93e-01   \n",
       "Island_Torgersen                                       -3.59e-01   \n",
       "Species_Adelie Penguin (Pygoscelis adeliae)            -4.20e-01   \n",
       "Species_Chinstrap penguin (Pygoscelis antarctica)      -5.30e-01   \n",
       "Species_Gentoo penguin (Pygoscelis papua)               8.53e-01   \n",
       "\n",
       "                                                   Island_Dream  \\\n",
       "Clutch Completion                                     -3.15e-01   \n",
       "Culmen Length (mm)                                    -4.72e-02   \n",
       "Culmen Depth (mm)                                      5.60e-01   \n",
       "Flipper Length (mm)                                   -5.66e-01   \n",
       "Sex                                                   -7.30e-03   \n",
       "Delta 15 N (o/oo)                                      7.03e-01   \n",
       "Delta 13 C (o/oo)                                      6.74e-01   \n",
       "Body Mass (g)                                         -5.74e-01   \n",
       "Island_Biscoe                                         -7.93e-01   \n",
       "Island_Dream                                           1.00e+00   \n",
       "Island_Torgersen                                      -2.84e-01   \n",
       "Species_Adelie Penguin (Pygoscelis adeliae)            1.19e-01   \n",
       "Species_Chinstrap penguin (Pygoscelis antarctica)      6.68e-01   \n",
       "Species_Gentoo penguin (Pygoscelis papua)             -6.76e-01   \n",
       "\n",
       "                                                   Island_Torgersen  \\\n",
       "Clutch Completion                                              0.12   \n",
       "Culmen Length (mm)                                            -0.39   \n",
       "Culmen Depth (mm)                                              0.28   \n",
       "Flipper Length (mm)                                           -0.30   \n",
       "Sex                                                            0.03   \n",
       "Delta 15 N (o/oo)                                             -0.07   \n",
       "Delta 13 C (o/oo)                                             -0.11   \n",
       "Body Mass (g)                                                 -0.24   \n",
       "Island_Biscoe                                                 -0.36   \n",
       "Island_Dream                                                  -0.28   \n",
       "Island_Torgersen                                               1.00   \n",
       "Species_Adelie Penguin (Pygoscelis adeliae)                    0.48   \n",
       "Species_Chinstrap penguin (Pygoscelis antarctica)             -0.19   \n",
       "Species_Gentoo penguin (Pygoscelis papua)                     -0.31   \n",
       "\n",
       "                                                   Species_Adelie Penguin (Pygoscelis adeliae)  \\\n",
       "Clutch Completion                                                                         0.08   \n",
       "Culmen Length (mm)                                                                       -0.82   \n",
       "Culmen Depth (mm)                                                                         0.52   \n",
       "Flipper Length (mm)                                                                      -0.69   \n",
       "Sex                                                                                       0.05   \n",
       "Delta 15 N (o/oo)                                                                         0.17   \n",
       "Delta 13 C (o/oo)                                                                        -0.09   \n",
       "Body Mass (g)                                                                            -0.51   \n",
       "Island_Biscoe                                                                            -0.42   \n",
       "Island_Dream                                                                              0.12   \n",
       "Island_Torgersen                                                                          0.48   \n",
       "Species_Adelie Penguin (Pygoscelis adeliae)                                               1.00   \n",
       "Species_Chinstrap penguin (Pygoscelis antarctica)                                        -0.40   \n",
       "Species_Gentoo penguin (Pygoscelis papua)                                                -0.64   \n",
       "\n",
       "                                                   Species_Chinstrap penguin (Pygoscelis antarctica)  \\\n",
       "Clutch Completion                                                                              -0.30   \n",
       "Culmen Length (mm)                                                                              0.38   \n",
       "Culmen Depth (mm)                                                                               0.38   \n",
       "Flipper Length (mm)                                                                            -0.25   \n",
       "Sex                                                                                            -0.07   \n",
       "Delta 15 N (o/oo)                                                                               0.65   \n",
       "Delta 13 C (o/oo)                                                                               0.76   \n",
       "Body Mass (g)                                                                                  -0.39   \n",
       "Island_Biscoe                                                                                  -0.53   \n",
       "Island_Dream                                                                                    0.67   \n",
       "Island_Torgersen                                                                               -0.19   \n",
       "Species_Adelie Penguin (Pygoscelis adeliae)                                                    -0.40   \n",
       "Species_Chinstrap penguin (Pygoscelis antarctica)                                               1.00   \n",
       "Species_Gentoo penguin (Pygoscelis papua)                                                      -0.45   \n",
       "\n",
       "                                                   Species_Gentoo penguin (Pygoscelis papua)  \n",
       "Clutch Completion                                                                       0.18  \n",
       "Culmen Length (mm)                                                                      0.48  \n",
       "Culmen Depth (mm)                                                                      -0.83  \n",
       "Flipper Length (mm)                                                                     0.88  \n",
       "Sex                                                                                     0.01  \n",
       "Delta 15 N (o/oo)                                                                      -0.71  \n",
       "Delta 13 C (o/oo)                                                                      -0.56  \n",
       "Body Mass (g)                                                                           0.82  \n",
       "Island_Biscoe                                                                           0.85  \n",
       "Island_Dream                                                                           -0.68  \n",
       "Island_Torgersen                                                                       -0.31  \n",
       "Species_Adelie Penguin (Pygoscelis adeliae)                                            -0.64  \n",
       "Species_Chinstrap penguin (Pygoscelis antarctica)                                      -0.45  \n",
       "Species_Gentoo penguin (Pygoscelis papua)                                               1.00  "
      ]
     },
     "execution_count": 11,
     "metadata": {},
     "output_type": "execute_result"
    }
   ],
   "source": [
    "set_option('precision',2)\n",
    "train.corr(method='pearson')"
   ]
  },
  {
   "cell_type": "markdown",
   "id": "61fb8f88",
   "metadata": {},
   "source": [
    "Sex 결측치 채우기"
   ]
  },
  {
   "cell_type": "code",
   "execution_count": 12,
   "id": "d5a1c3d6",
   "metadata": {},
   "outputs": [],
   "source": [
    "sex_features = ['Culmen Length (mm)', 'Culmen Depth (mm)',\n",
    "       'Flipper Length (mm)','Species_Adelie Penguin (Pygoscelis adeliae)',\n",
    "       'Species_Chinstrap penguin (Pygoscelis antarctica)',\n",
    "       'Species_Gentoo penguin (Pygoscelis papua)', 'Island_Biscoe', 'Island_Dream', 'Island_Torgersen'\n",
    "       ]"
   ]
  },
  {
   "cell_type": "code",
   "execution_count": 13,
   "id": "e4943ccc",
   "metadata": {},
   "outputs": [
    {
     "name": "stdout",
     "output_type": "stream",
     "text": [
      "LR : 0.721212 (0.083320) \n",
      "LDA : 0.874242 (0.091926) \n",
      "KNN : 0.775000 (0.092291) \n",
      "CART : 0.774242 (0.117451) \n",
      "NB : 0.702273 (0.147447) \n",
      "SVM : 0.737879 (0.138543) \n",
      "RFC : 0.810606 (0.086044) \n"
     ]
    },
    {
     "name": "stderr",
     "output_type": "stream",
     "text": [
      "C:\\Users\\wnrrh\\anaconda3\\lib\\site-packages\\xgboost\\sklearn.py:1224: UserWarning: The use of label encoder in XGBClassifier is deprecated and will be removed in a future release. To remove this warning, do the following: 1) Pass option use_label_encoder=False when constructing XGBClassifier object; and 2) Encode your labels (y) as integers starting with 0, i.e. 0, 1, 2, ..., [num_class - 1].\n",
      "  warnings.warn(label_encoder_deprecation_msg, UserWarning)\n",
      "C:\\Users\\wnrrh\\anaconda3\\lib\\site-packages\\xgboost\\sklearn.py:1224: UserWarning: The use of label encoder in XGBClassifier is deprecated and will be removed in a future release. To remove this warning, do the following: 1) Pass option use_label_encoder=False when constructing XGBClassifier object; and 2) Encode your labels (y) as integers starting with 0, i.e. 0, 1, 2, ..., [num_class - 1].\n",
      "  warnings.warn(label_encoder_deprecation_msg, UserWarning)\n",
      "C:\\Users\\wnrrh\\anaconda3\\lib\\site-packages\\xgboost\\sklearn.py:1224: UserWarning: The use of label encoder in XGBClassifier is deprecated and will be removed in a future release. To remove this warning, do the following: 1) Pass option use_label_encoder=False when constructing XGBClassifier object; and 2) Encode your labels (y) as integers starting with 0, i.e. 0, 1, 2, ..., [num_class - 1].\n",
      "  warnings.warn(label_encoder_deprecation_msg, UserWarning)\n",
      "C:\\Users\\wnrrh\\anaconda3\\lib\\site-packages\\xgboost\\sklearn.py:1224: UserWarning: The use of label encoder in XGBClassifier is deprecated and will be removed in a future release. To remove this warning, do the following: 1) Pass option use_label_encoder=False when constructing XGBClassifier object; and 2) Encode your labels (y) as integers starting with 0, i.e. 0, 1, 2, ..., [num_class - 1].\n",
      "  warnings.warn(label_encoder_deprecation_msg, UserWarning)\n",
      "C:\\Users\\wnrrh\\anaconda3\\lib\\site-packages\\xgboost\\sklearn.py:1224: UserWarning: The use of label encoder in XGBClassifier is deprecated and will be removed in a future release. To remove this warning, do the following: 1) Pass option use_label_encoder=False when constructing XGBClassifier object; and 2) Encode your labels (y) as integers starting with 0, i.e. 0, 1, 2, ..., [num_class - 1].\n",
      "  warnings.warn(label_encoder_deprecation_msg, UserWarning)\n",
      "C:\\Users\\wnrrh\\anaconda3\\lib\\site-packages\\xgboost\\sklearn.py:1224: UserWarning: The use of label encoder in XGBClassifier is deprecated and will be removed in a future release. To remove this warning, do the following: 1) Pass option use_label_encoder=False when constructing XGBClassifier object; and 2) Encode your labels (y) as integers starting with 0, i.e. 0, 1, 2, ..., [num_class - 1].\n",
      "  warnings.warn(label_encoder_deprecation_msg, UserWarning)\n",
      "C:\\Users\\wnrrh\\anaconda3\\lib\\site-packages\\xgboost\\sklearn.py:1224: UserWarning: The use of label encoder in XGBClassifier is deprecated and will be removed in a future release. To remove this warning, do the following: 1) Pass option use_label_encoder=False when constructing XGBClassifier object; and 2) Encode your labels (y) as integers starting with 0, i.e. 0, 1, 2, ..., [num_class - 1].\n",
      "  warnings.warn(label_encoder_deprecation_msg, UserWarning)\n",
      "C:\\Users\\wnrrh\\anaconda3\\lib\\site-packages\\xgboost\\sklearn.py:1224: UserWarning: The use of label encoder in XGBClassifier is deprecated and will be removed in a future release. To remove this warning, do the following: 1) Pass option use_label_encoder=False when constructing XGBClassifier object; and 2) Encode your labels (y) as integers starting with 0, i.e. 0, 1, 2, ..., [num_class - 1].\n",
      "  warnings.warn(label_encoder_deprecation_msg, UserWarning)\n",
      "C:\\Users\\wnrrh\\anaconda3\\lib\\site-packages\\xgboost\\sklearn.py:1224: UserWarning: The use of label encoder in XGBClassifier is deprecated and will be removed in a future release. To remove this warning, do the following: 1) Pass option use_label_encoder=False when constructing XGBClassifier object; and 2) Encode your labels (y) as integers starting with 0, i.e. 0, 1, 2, ..., [num_class - 1].\n",
      "  warnings.warn(label_encoder_deprecation_msg, UserWarning)\n",
      "C:\\Users\\wnrrh\\anaconda3\\lib\\site-packages\\xgboost\\sklearn.py:1224: UserWarning: The use of label encoder in XGBClassifier is deprecated and will be removed in a future release. To remove this warning, do the following: 1) Pass option use_label_encoder=False when constructing XGBClassifier object; and 2) Encode your labels (y) as integers starting with 0, i.e. 0, 1, 2, ..., [num_class - 1].\n",
      "  warnings.warn(label_encoder_deprecation_msg, UserWarning)\n"
     ]
    },
    {
     "name": "stdout",
     "output_type": "stream",
     "text": [
      "XGBC : 0.801515 (0.113879) \n",
      "LGBMC : 0.837879 (0.120462) \n",
      "AdaC : 0.891667 (0.068270) \n",
      "Cat : 0.810606 (0.086044) \n"
     ]
    }
   ],
   "source": [
    "models = []\n",
    "models.append(('LR',LogisticRegression(solver='liblinear',multi_class = 'ovr')))\n",
    "models.append(('LDA',LinearDiscriminantAnalysis()))\n",
    "models.append(('KNN',KNeighborsClassifier()))\n",
    "models.append(('CART',DecisionTreeClassifier()))\n",
    "models.append(('NB',GaussianNB()))\n",
    "models.append(('SVM',SVC(gamma='auto')))\n",
    "models.append(('RFC',RandomForestClassifier()))\n",
    "models.append(('XGBC',XGBClassifier(iterations=10000,verbose=False,verbosity=0)))\n",
    "models.append(('LGBMC',LGBMClassifier()))\n",
    "models.append(('AdaC',AdaBoostClassifier()))\n",
    "models.append(('Cat',CatBoostClassifier(iterations=10000,verbose=False)))\n",
    "results =[]\n",
    "names = []\n",
    "for name, model in models:\n",
    "  kfold = KFold(n_splits=10,random_state=7,shuffle = True)\n",
    "  cv_results = cross_val_score(model,train[sex_features].iloc[train['Sex'].dropna().index]\n",
    "                               ,train['Sex'].iloc[train['Sex'].dropna().index]\n",
    "                               ,cv= kfold,scoring='accuracy')\n",
    "  results.append(cv_results)\n",
    "  names.append(name)\n",
    "  msg = \"%s : %f (%f) \"%(name,cv_results.mean(),cv_results.std())\n",
    "  print(msg)"
   ]
  },
  {
   "cell_type": "code",
   "execution_count": 14,
   "id": "ede1e355",
   "metadata": {},
   "outputs": [
    {
     "data": {
      "image/png": "[encoded data removed]",
      "text/plain": [
       "<Figure size 1080x576 with 1 Axes>"
      ]
     },
     "metadata": {},
     "output_type": "display_data"
    }
   ],
   "source": [
    "fig = plt.figure()\n",
    "fig.suptitle('Algorithm Comparison')\n",
    "ax = fig.add_subplot(111)\n",
    "plt.boxplot(results)\n",
    "ax.set_xticklabels(names)\n",
    "plt.show()"
   ]
  },
  {
   "cell_type": "code",
   "execution_count": 15,
   "id": "506c7ffa",
   "metadata": {},
   "outputs": [
    {
     "name": "stderr",
     "output_type": "stream",
     "text": [
      "C:\\Users\\wnrrh\\anaconda3\\lib\\site-packages\\pandas\\core\\indexing.py:1732: SettingWithCopyWarning: \n",
      "A value is trying to be set on a copy of a slice from a DataFrame\n",
      "\n",
      "See the caveats in the documentation: https://pandas.pydata.org/pandas-docs/stable/user_guide/indexing.html#returning-a-view-versus-a-copy\n",
      "  self._setitem_single_block(indexer, value, name)\n",
      "C:\\Users\\wnrrh\\anaconda3\\lib\\site-packages\\pandas\\core\\indexing.py:1732: SettingWithCopyWarning: \n",
      "A value is trying to be set on a copy of a slice from a DataFrame\n",
      "\n",
      "See the caveats in the documentation: https://pandas.pydata.org/pandas-docs/stable/user_guide/indexing.html#returning-a-view-versus-a-copy\n",
      "  self._setitem_single_block(indexer, value, name)\n"
     ]
    }
   ],
   "source": [
    "sex_model = AdaBoostClassifier()\n",
    "sex_model.fit(train[sex_features].iloc[train['Sex'].dropna().index],train['Sex'].iloc[train['Sex'].dropna().index])\n",
    "train['Sex'].iloc[np.where(train['Sex'].isnull()==True)] =  sex_model.predict(train[train['Sex'].isnull()][sex_features])\n",
    "test['Sex'].iloc[np.where(test['Sex'].isnull()==True)] =  sex_model.predict(test[test['Sex'].isnull()][sex_features])"
   ]
  },
  {
   "cell_type": "markdown",
   "id": "c3e679cf",
   "metadata": {},
   "source": [
    "Delta 15 N 결측치 채우기"
   ]
  },
  {
   "cell_type": "code",
   "execution_count": 16,
   "id": "d65bac70",
   "metadata": {},
   "outputs": [],
   "source": [
    "Delta_features = ['Culmen Length (mm)', 'Culmen Depth (mm)',\n",
    "       'Flipper Length (mm)','Species_Adelie Penguin (Pygoscelis adeliae)',\n",
    "       'Species_Chinstrap penguin (Pygoscelis antarctica)',\n",
    "       'Species_Gentoo penguin (Pygoscelis papua)', 'Island_Biscoe', 'Island_Dream', 'Island_Torgersen','Sex'\n",
    "       ]"
   ]
  },
  {
   "cell_type": "code",
   "execution_count": 17,
   "id": "86a43162",
   "metadata": {},
   "outputs": [
    {
     "name": "stdout",
     "output_type": "stream",
     "text": [
      "LR : -0.116568 (0.036340) \n",
      "LASSO : -0.238135 (0.090412) \n",
      "KNN : -0.159055 (0.078713) \n",
      "CART : -0.237853 (0.117637) \n",
      "EN : -0.211953 (0.079840) \n",
      "SVM : -0.232461 (0.090579) \n",
      "RFR : -0.145737 (0.069871) \n",
      "XGBR : -0.167617 (0.092666) \n",
      "LGBMR : -0.126749 (0.041506) \n",
      "AdaR : -0.141209 (0.070210) \n",
      "Cat : -0.154403 (0.073445) \n"
     ]
    }
   ],
   "source": [
    "models = []\n",
    "models.append(('LR',LinearRegression()))\n",
    "models.append(('LASSO',Lasso()))\n",
    "models.append(('KNN',KNeighborsRegressor()))\n",
    "models.append(('CART',DecisionTreeRegressor()))\n",
    "models.append(('EN',ElasticNet()))\n",
    "models.append(('SVM',SVR()))\n",
    "models.append(('RFR',RandomForestRegressor()))\n",
    "models.append(('XGBR',XGBRegressor(iterations=10000,verbose=False)))\n",
    "models.append(('LGBMR',LGBMRegressor()))\n",
    "models.append(('AdaR',AdaBoostRegressor()))\n",
    "models.append(('Cat',CatBoostRegressor(iterations=10000,verbose=False)))\n",
    "results =[]\n",
    "names = []\n",
    "for name, model in models:\n",
    "  kfold = KFold(n_splits=10,random_state=7,shuffle = True)\n",
    "  cv_results = cross_val_score(model,train[Delta_features].iloc[train['Delta 15 N (o/oo)'].dropna().index]\n",
    "                               ,train['Delta 15 N (o/oo)'].iloc[train['Delta 15 N (o/oo)'].dropna().index]\n",
    "                               ,cv= kfold,scoring='neg_mean_squared_error')\n",
    "  results.append(cv_results)\n",
    "  names.append(name)\n",
    "  msg = \"%s : %f (%f) \"%(name,cv_results.mean(),cv_results.std())\n",
    "  print(msg)"
   ]
  },
  {
   "cell_type": "code",
   "execution_count": 18,
   "id": "80b6abb4",
   "metadata": {},
   "outputs": [
    {
     "data": {
      "image/png": "[encoded data removed]",
      "text/plain": [
       "<Figure size 1080x576 with 1 Axes>"
      ]
     },
     "metadata": {},
     "output_type": "display_data"
    }
   ],
   "source": [
    "fig = plt.figure()\n",
    "fig.suptitle('Algorithm Comparison')\n",
    "ax = fig.add_subplot(111)\n",
    "plt.boxplot(results)\n",
    "ax.set_xticklabels(names)\n",
    "plt.show()"
   ]
  },
  {
   "cell_type": "code",
   "execution_count": 19,
   "id": "2deb37df",
   "metadata": {},
   "outputs": [
    {
     "name": "stderr",
     "output_type": "stream",
     "text": [
      "C:\\Users\\wnrrh\\anaconda3\\lib\\site-packages\\pandas\\core\\indexing.py:1732: SettingWithCopyWarning: \n",
      "A value is trying to be set on a copy of a slice from a DataFrame\n",
      "\n",
      "See the caveats in the documentation: https://pandas.pydata.org/pandas-docs/stable/user_guide/indexing.html#returning-a-view-versus-a-copy\n",
      "  self._setitem_single_block(indexer, value, name)\n",
      "C:\\Users\\wnrrh\\anaconda3\\lib\\site-packages\\pandas\\core\\indexing.py:1732: SettingWithCopyWarning: \n",
      "A value is trying to be set on a copy of a slice from a DataFrame\n",
      "\n",
      "See the caveats in the documentation: https://pandas.pydata.org/pandas-docs/stable/user_guide/indexing.html#returning-a-view-versus-a-copy\n",
      "  self._setitem_single_block(indexer, value, name)\n"
     ]
    }
   ],
   "source": [
    "d15_model = AdaBoostRegressor()\n",
    "d15_model.fit(train[Delta_features].iloc[train['Delta 15 N (o/oo)'].dropna().index]\n",
    "                               ,train['Delta 15 N (o/oo)'].iloc[train['Delta 15 N (o/oo)'].dropna().index])\n",
    "train['Delta 15 N (o/oo)'].iloc[np.where(train['Delta 15 N (o/oo)'].isnull()==True)] =  d15_model.predict(train[train['Delta 15 N (o/oo)'].isnull()][Delta_features])\n",
    "test['Delta 15 N (o/oo)'].iloc[np.where(test['Delta 15 N (o/oo)'].isnull()==True)] =  d15_model.predict(test[test['Delta 15 N (o/oo)'].isnull()][Delta_features])"
   ]
  },
  {
   "cell_type": "markdown",
   "id": "cf767ae0",
   "metadata": {},
   "source": [
    "Delta 13 N 결측치 채우기"
   ]
  },
  {
   "cell_type": "code",
   "execution_count": 20,
   "id": "e412993b",
   "metadata": {},
   "outputs": [
    {
     "name": "stdout",
     "output_type": "stream",
     "text": [
      "LR : -0.282013 (0.152863) \n",
      "LASSO : -0.478706 (0.192187) \n",
      "KNN : -0.415174 (0.254843) \n",
      "CART : -0.507946 (0.251325) \n",
      "EN : -0.396727 (0.177711) \n",
      "SVM : -0.634220 (0.269142) \n",
      "RFR : -0.347481 (0.157037) \n",
      "XGBR : -0.422721 (0.218251) \n",
      "LGBMR : -0.306097 (0.129707) \n",
      "AdaR : -0.333771 (0.153032) \n",
      "Cat : -0.397602 (0.173610) \n"
     ]
    }
   ],
   "source": [
    "models = []\n",
    "models.append(('LR',LinearRegression()))\n",
    "models.append(('LASSO',Lasso()))\n",
    "models.append(('KNN',KNeighborsRegressor()))\n",
    "models.append(('CART',DecisionTreeRegressor()))\n",
    "models.append(('EN',ElasticNet()))\n",
    "models.append(('SVM',SVR()))\n",
    "models.append(('RFR',RandomForestRegressor()))\n",
    "models.append(('XGBR',XGBRegressor(iterations=10000,verbose=False)))\n",
    "models.append(('LGBMR',LGBMRegressor()))\n",
    "models.append(('AdaR',AdaBoostRegressor()))\n",
    "models.append(('Cat',CatBoostRegressor(iterations=10000,verbose=False)))\n",
    "results =[]\n",
    "names = []\n",
    "for name, model in models:\n",
    "  kfold = KFold(n_splits=10,random_state=7,shuffle = True)\n",
    "  cv_results = cross_val_score(model,train[Delta_features].iloc[train['Delta 13 C (o/oo)'].dropna().index]\n",
    "                               ,train['Delta 13 C (o/oo)'].iloc[train['Delta 13 C (o/oo)'].dropna().index]\n",
    "                               ,cv= kfold,scoring='neg_mean_squared_error')\n",
    "  results.append(cv_results)\n",
    "  names.append(name)\n",
    "  msg = \"%s : %f (%f) \"%(name,cv_results.mean(),cv_results.std())\n",
    "  print(msg)"
   ]
  },
  {
   "cell_type": "code",
   "execution_count": 21,
   "id": "95411f24",
   "metadata": {},
   "outputs": [
    {
     "data": {
      "image/png": "[encoded data removed]",
      "text/plain": [
       "<Figure size 1080x576 with 1 Axes>"
      ]
     },
     "metadata": {},
     "output_type": "display_data"
    }
   ],
   "source": [
    "fig = plt.figure()\n",
    "fig.suptitle('Algorithm Comparison')\n",
    "ax = fig.add_subplot(111)\n",
    "plt.boxplot(results)\n",
    "ax.set_xticklabels(names)\n",
    "plt.show()"
   ]
  },
  {
   "cell_type": "code",
   "execution_count": 22,
   "id": "25b5c7ed",
   "metadata": {},
   "outputs": [
    {
     "name": "stderr",
     "output_type": "stream",
     "text": [
      "C:\\Users\\wnrrh\\anaconda3\\lib\\site-packages\\pandas\\core\\indexing.py:1732: SettingWithCopyWarning: \n",
      "A value is trying to be set on a copy of a slice from a DataFrame\n",
      "\n",
      "See the caveats in the documentation: https://pandas.pydata.org/pandas-docs/stable/user_guide/indexing.html#returning-a-view-versus-a-copy\n",
      "  self._setitem_single_block(indexer, value, name)\n",
      "C:\\Users\\wnrrh\\anaconda3\\lib\\site-packages\\pandas\\core\\indexing.py:1732: SettingWithCopyWarning: \n",
      "A value is trying to be set on a copy of a slice from a DataFrame\n",
      "\n",
      "See the caveats in the documentation: https://pandas.pydata.org/pandas-docs/stable/user_guide/indexing.html#returning-a-view-versus-a-copy\n",
      "  self._setitem_single_block(indexer, value, name)\n"
     ]
    }
   ],
   "source": [
    "d13_model = LinearRegression()\n",
    "d13_model.fit(train[Delta_features].iloc[train['Delta 13 C (o/oo)'].dropna().index]\n",
    "                               ,train['Delta 13 C (o/oo)'].iloc[train['Delta 13 C (o/oo)'].dropna().index])\n",
    "train['Delta 13 C (o/oo)'].iloc[np.where(train['Delta 13 C (o/oo)'].isnull()==True)] =  d13_model.predict(train[train['Delta 13 C (o/oo)'].isnull()][Delta_features])\n",
    "test['Delta 13 C (o/oo)'].iloc[np.where(test['Delta 13 C (o/oo)'].isnull()==True)] =  d13_model.predict(test[test['Delta 13 C (o/oo)'].isnull()][Delta_features])"
   ]
  },
  {
   "cell_type": "code",
   "execution_count": 23,
   "id": "6df7ee20",
   "metadata": {},
   "outputs": [],
   "source": [
    "# 결측치 잘 채워졌나 확인\n",
    "for col in test.columns:\n",
    "    n_nan = test[col].isnull().sum()\n",
    "    if n_nan>0:\n",
    "      msg = '{:^20}에서 결측치 개수 : {}개'.format(col,n_nan)\n",
    "      print(msg)"
   ]
  },
  {
   "cell_type": "markdown",
   "id": "707f0eb6",
   "metadata": {},
   "source": [
    "# Modeling"
   ]
  },
  {
   "cell_type": "code",
   "execution_count": 24,
   "id": "fed17420",
   "metadata": {},
   "outputs": [],
   "source": [
    "num_folds= 10\n",
    "seed = 7\n",
    "scoring = 'neg_root_mean_squared_error'\n",
    "\n",
    "X_all = train[test.columns.tolist()]\n",
    "y_all =train['Body Mass (g)']"
   ]
  },
  {
   "cell_type": "code",
   "execution_count": 25,
   "id": "e5e7820c",
   "metadata": {},
   "outputs": [],
   "source": [
    "X_train, X_valid, y_train, y_valid = train_test_split(train[test.columns.tolist()],train['Body Mass (g)']\n",
    "                                                      ,test_size=0.2,random_state=seed)"
   ]
  },
  {
   "cell_type": "code",
   "execution_count": 26,
   "id": "2694d048",
   "metadata": {},
   "outputs": [
    {
     "name": "stdout",
     "output_type": "stream",
     "text": [
      "LR : -330.719540 (56.761748) \n",
      "LASSO : -329.263596 (55.593551) \n",
      "KNN : -388.766440 (54.708975) \n",
      "CART : -408.393391 (91.705927) \n",
      "EN : -376.245575 (57.954416) \n",
      "SVM : -775.629941 (193.158683) \n",
      "RFR : -333.816990 (80.266155) \n",
      "XGBR : -360.081094 (57.213668) \n",
      "LGBMR : -343.267893 (56.144646) \n",
      "AdaR : -354.709648 (61.129986) \n",
      "Cat : -320.380714 (74.349676) \n",
      "Xtree : -321.391019 (71.303179) \n"
     ]
    }
   ],
   "source": [
    "models = []\n",
    "models.append(('LR',LinearRegression()))\n",
    "models.append(('LASSO',Lasso()))\n",
    "models.append(('KNN',KNeighborsRegressor()))\n",
    "models.append(('CART',DecisionTreeRegressor()))\n",
    "models.append(('EN',ElasticNet()))\n",
    "models.append(('SVM',SVR()))\n",
    "models.append(('RFR',RandomForestRegressor()))\n",
    "models.append(('XGBR',XGBRegressor()))\n",
    "models.append(('LGBMR',LGBMRegressor()))\n",
    "models.append(('AdaR',AdaBoostRegressor()))\n",
    "models.append(('Cat',CatBoostRegressor(verbose=False)))\n",
    "models.append(('Xtree',ExtraTreesRegressor()))\n",
    "\n",
    "results =[]\n",
    "names = []\n",
    "for name, model in models:\n",
    "  kfold = KFold(n_splits=10,random_state=7,shuffle = True)\n",
    "  cv_results = cross_val_score(model,X_train,y_train\n",
    "                               ,cv= kfold,scoring=scoring)\n",
    "  results.append(cv_results)\n",
    "  names.append(name)\n",
    "  msg = \"%s : %f (%f) \"%(name,cv_results.mean(),cv_results.std())\n",
    "  print(msg)"
   ]
  },
  {
   "cell_type": "code",
   "execution_count": 27,
   "id": "40f5c7f5",
   "metadata": {},
   "outputs": [
    {
     "data": {
      "image/png": "[encoded data removed]",
      "text/plain": [
       "<Figure size 1080x576 with 1 Axes>"
      ]
     },
     "metadata": {},
     "output_type": "display_data"
    }
   ],
   "source": [
    "fig = plt.figure()\n",
    "fig.suptitle('Algorithm Comparison')\n",
    "ax = fig.add_subplot(111)\n",
    "plt.boxplot(results)\n",
    "ax.set_xticklabels(names)\n",
    "plt.show()"
   ]
  },
  {
   "cell_type": "code",
   "execution_count": 28,
   "id": "e69b6b22",
   "metadata": {},
   "outputs": [
    {
     "name": "stdout",
     "output_type": "stream",
     "text": [
      "ScaledLR : -330.719540 (56.761748) \n",
      "ScaledLASSO : -330.414507 (55.565246) \n",
      "ScaledKNN : -344.411139 (69.674407) \n",
      "ScaledCART : -425.415617 (90.787590) \n",
      "ScaledEN : -343.899576 (61.431753) \n",
      "ScaledSVM : -767.475813 (192.286894) \n",
      "ScaledRFR : -341.912480 (85.431297) \n",
      "ScaledXGBR : -360.076954 (57.214286) \n",
      "ScaledLGBMR : -343.119043 (61.419924) \n",
      "ScaledAdaR : -347.590856 (55.015684) \n",
      "ScaledCat : -322.030441 (72.175881) \n",
      "ScaledXtree : -323.921719 (70.848669) \n"
     ]
    }
   ],
   "source": [
    "pipelines = []\n",
    "pipelines.append(('ScaledLR',Pipeline([('Scaler',preprocessing.StandardScaler()),('LR',LinearRegression())])))\n",
    "pipelines.append(('ScaledLASSO',Pipeline([('Scaler',preprocessing.StandardScaler()),('LASSO',Lasso())])))\n",
    "pipelines.append(('ScaledKNN',Pipeline([('Scaler',preprocessing.StandardScaler()),('KNN',KNeighborsRegressor())])))\n",
    "pipelines.append(('ScaledCART',Pipeline([('Scaler',preprocessing.StandardScaler()),('CART',DecisionTreeRegressor())])))\n",
    "pipelines.append(('ScaledEN',Pipeline([('Scaler',preprocessing.StandardScaler()),('EN',ElasticNet())])))\n",
    "pipelines.append(('ScaledSVM',Pipeline([('Scaler',preprocessing.StandardScaler()),('SVM',SVR())])))\n",
    "pipelines.append(('ScaledRFR',Pipeline([('Scaler',preprocessing.StandardScaler()),('RFR',RandomForestRegressor())])))\n",
    "pipelines.append(('ScaledXGBR',Pipeline([('Scaler',preprocessing.StandardScaler()),('XGBR',XGBRegressor())])))\n",
    "pipelines.append(('ScaledLGBMR',Pipeline([('Scaler',preprocessing.StandardScaler()),('LGBMR',LGBMRegressor())])))\n",
    "pipelines.append(('ScaledAdaR',Pipeline([('Scaler',preprocessing.StandardScaler()),('AdaR',AdaBoostRegressor())])))\n",
    "pipelines.append(('ScaledCat',Pipeline([('Scaler',preprocessing.StandardScaler()),('Cat',CatBoostRegressor(verbose=False))])))\n",
    "pipelines.append(('ScaledXtree',Pipeline([('Scaler',preprocessing.StandardScaler()),('Xtree',ExtraTreesRegressor())])))\n",
    "\n",
    "results_scaled =[]\n",
    "names_scaled = []\n",
    "for name, model in pipelines:\n",
    "  kfold = KFold(n_splits=10,random_state=7,shuffle = True)\n",
    "  cv_results = cross_val_score(model,X_train,y_train\n",
    "                               ,cv= kfold,scoring=scoring)\n",
    "  results_scaled.append(cv_results)\n",
    "  names_scaled.append(name)\n",
    "  msg = \"%s : %f (%f) \"%(name,cv_results.mean(),cv_results.std())\n",
    "  print(msg)"
   ]
  },
  {
   "cell_type": "code",
   "execution_count": 29,
   "id": "a6bcf258",
   "metadata": {},
   "outputs": [
    {
     "data": {
      "image/png": "[encoded data removed]",
      "text/plain": [
       "<Figure size 1080x576 with 1 Axes>"
      ]
     },
     "metadata": {},
     "output_type": "display_data"
    }
   ],
   "source": [
    "fig = plt.figure()\n",
    "fig.suptitle('Algorithm Comparison')\n",
    "ax = fig.add_subplot(111)\n",
    "plt.boxplot(results_scaled)\n",
    "ax.set_xticklabels(names_scaled)\n",
    "plt.show()"
   ]
  },
  {
   "cell_type": "code",
   "execution_count": 30,
   "id": "3c06af81",
   "metadata": {},
   "outputs": [
    {
     "name": "stdout",
     "output_type": "stream",
     "text": [
      "NormLR : -336.123078 (52.901704) \n",
      "NormLASSO : -535.770671 (76.311161) \n",
      "NormKNN : -384.641645 (42.751212) \n",
      "NormCART : -402.876817 (95.473926) \n",
      "NormEN : -771.844126 (171.084753) \n",
      "NormSVM : -776.125076 (193.274446) \n",
      "NormRFR : -338.373032 (91.988125) \n",
      "NormXGBR : -328.180785 (52.189713) \n",
      "NormLGBMR : -338.713049 (82.575553) \n",
      "NormAdaR : -354.787005 (95.628930) \n",
      "NormCat : -347.613480 (67.538529) \n",
      "NormXtree : -347.678976 (59.956367) \n"
     ]
    }
   ],
   "source": [
    "pipelines = []\n",
    "pipelines.append(('NormLR',Pipeline([('Scaler',preprocessing.Normalizer()),('LR',LinearRegression())])))\n",
    "pipelines.append(('NormLASSO',Pipeline([('Scaler',preprocessing.Normalizer()),('LASSO',Lasso())])))\n",
    "pipelines.append(('NormKNN',Pipeline([('Scaler',preprocessing.Normalizer()),('KNN',KNeighborsRegressor())])))\n",
    "pipelines.append(('NormCART',Pipeline([('Scaler',preprocessing.Normalizer()),('CART',DecisionTreeRegressor())])))\n",
    "pipelines.append(('NormEN',Pipeline([('Scaler',preprocessing.Normalizer()),('EN',ElasticNet())])))\n",
    "pipelines.append(('NormSVM',Pipeline([('Scaler',preprocessing.Normalizer()),('SVM',SVR())])))\n",
    "pipelines.append(('NormRFR',Pipeline([('Scaler',preprocessing.Normalizer()),('RFR',RandomForestRegressor())])))\n",
    "pipelines.append(('NormXGBR',Pipeline([('Scaler',preprocessing.Normalizer()),('XGBR',XGBRegressor())])))\n",
    "pipelines.append(('NormLGBMR',Pipeline([('Scaler',preprocessing.Normalizer()),('LGBMR',LGBMRegressor())])))\n",
    "pipelines.append(('NormAdaR',Pipeline([('Scaler',preprocessing.Normalizer()),('AdaR',AdaBoostRegressor())])))\n",
    "pipelines.append(('NormCat',Pipeline([('Scaler',preprocessing.Normalizer()),('Cat',CatBoostRegressor(verbose=False))])))\n",
    "pipelines.append(('NormXtree',Pipeline([('Scaler',preprocessing.Normalizer()),('Xtree',ExtraTreesRegressor())])))\n",
    "\n",
    "results_norm =[]\n",
    "names_norm = []\n",
    "for name, model in pipelines:\n",
    "  kfold = KFold(n_splits=10,random_state=7,shuffle = True)\n",
    "  cv_results = cross_val_score(model,X_train,y_train\n",
    "                               ,cv= kfold,scoring=scoring)\n",
    "  results_norm.append(cv_results)\n",
    "  names_norm.append(name)\n",
    "  msg = \"%s : %f (%f) \"%(name,cv_results.mean(),cv_results.std())\n",
    "  print(msg)"
   ]
  },
  {
   "cell_type": "code",
   "execution_count": 31,
   "id": "78873306",
   "metadata": {},
   "outputs": [
    {
     "data": {
      "image/png": "[encoded data removed]",
      "text/plain": [
       "<Figure size 1080x576 with 1 Axes>"
      ]
     },
     "metadata": {},
     "output_type": "display_data"
    }
   ],
   "source": [
    "fig = plt.figure()\n",
    "fig.suptitle('Algorithm Comparison')\n",
    "ax = fig.add_subplot(111)\n",
    "plt.boxplot(results_norm)\n",
    "ax.set_xticklabels(names_norm)\n",
    "plt.show()"
   ]
  },
  {
   "cell_type": "code",
   "execution_count": 32,
   "id": "ffd82ebb",
   "metadata": {},
   "outputs": [],
   "source": [
    "# 평균값 비교 \n",
    "compare_algo_mean = pd.DataFrame([ i.mean() for i in results],columns=['Base'],index=names)\n",
    "compare_algo_mean['Stand'] = [ i.mean() for i in results_scaled]\n",
    "compare_algo_mean['Norm'] = [ i.mean() for i in results_norm]"
   ]
  },
  {
   "cell_type": "code",
   "execution_count": 33,
   "id": "e233dd94",
   "metadata": {},
   "outputs": [
    {
     "data": {
      "text/plain": [
       "<Figure size 1152x576 with 0 Axes>"
      ]
     },
     "metadata": {},
     "output_type": "display_data"
    },
    {
     "data": {
      "image/png": "[encoded data removed]",
      "text/plain": [
       "<Figure size 1080x576 with 1 Axes>"
      ]
     },
     "metadata": {},
     "output_type": "display_data"
    }
   ],
   "source": [
    "plt.figure(figsize=(16,8))\n",
    "ax =compare_algo_mean.plot()\n",
    "plt.xticks(range(len(compare_algo_mean.index)), compare_algo_mean.index)\n",
    "plt.show()"
   ]
  },
  {
   "cell_type": "code",
   "execution_count": 34,
   "id": "d84ca3a2",
   "metadata": {},
   "outputs": [],
   "source": [
    "# 중간값 비교\n",
    "compare_algo_mid = pd.DataFrame([ np.median(i) for i in results],columns=['Base'],index=names)\n",
    "compare_algo_mid['Stand'] = [ np.median(i)for i in results_scaled]\n",
    "compare_algo_mid['Norm'] = [ np.median(i) for i in results_norm]"
   ]
  },
  {
   "cell_type": "code",
   "execution_count": 35,
   "id": "7e27ea45",
   "metadata": {},
   "outputs": [
    {
     "data": {
      "text/plain": [
       "<Figure size 1152x576 with 0 Axes>"
      ]
     },
     "metadata": {},
     "output_type": "display_data"
    },
    {
     "data": {
      "image/png": "[encoded data removed]",
      "text/plain": [
       "<Figure size 1080x576 with 1 Axes>"
      ]
     },
     "metadata": {},
     "output_type": "display_data"
    }
   ],
   "source": [
    "plt.figure(figsize=(16,8))\n",
    "ax =compare_algo_mid.plot()\n",
    "plt.xticks(range(len(compare_algo_mid.index)), compare_algo_mid.index)\n",
    "plt.show()"
   ]
  },
  {
   "cell_type": "markdown",
   "id": "731209e3",
   "metadata": {},
   "source": [
    "# 랜덤포레스트 Parameter 튜닝"
   ]
  },
  {
   "cell_type": "code",
   "execution_count": 36,
   "id": "e86ae43a",
   "metadata": {},
   "outputs": [],
   "source": [
    "scaler = preprocessing.StandardScaler().fit(X_all)\n",
    "scaled_X = scaler.transform(X_all)\n",
    "\n",
    "params = { 'n_estimators' : [10, 50,100],\n",
    "           'max_depth' : [6, 12,18,24],\n",
    "           'min_samples_leaf' : [1, 6, 12, 18],\n",
    "           'min_samples_split' : [2, 8, 16, 20]\n",
    "            }\n",
    "model = RandomForestRegressor()\n",
    "kfold = KFold(n_splits= num_folds,random_state = seed,shuffle = True)\n",
    "grid = GridSearchCV(estimator= model, param_grid = params,scoring= 'neg_root_mean_squared_error',cv=kfold )\n",
    "grid_result = grid.fit(X_all, y_all)"
   ]
  },
  {
   "cell_type": "code",
   "execution_count": 37,
   "id": "99c4cf72",
   "metadata": {},
   "outputs": [
    {
     "name": "stdout",
     "output_type": "stream",
     "text": [
      "Best : -321.314356 using {'max_depth': 12, 'min_samples_leaf': 12, 'min_samples_split': 8, 'n_estimators': 10} \n"
     ]
    }
   ],
   "source": [
    "print(\"Best : %f using %s \"%(grid_result.best_score_,grid_result.best_params_))"
   ]
  },
  {
   "cell_type": "code",
   "execution_count": 38,
   "id": "06021a12",
   "metadata": {},
   "outputs": [],
   "source": [
    "params = { 'n_estimators' : [10, 50,100],\n",
    "           'max_depth' : [6,12,18,24],\n",
    "           'min_samples_leaf' : [1, 6, 12, 18],\n",
    "           'min_samples_split' : [2,4,8, 16]\n",
    "            }\n",
    "model =ExtraTreesRegressor()\n",
    "kfold = KFold(n_splits= num_folds,random_state = seed,shuffle = True)\n",
    "grid = GridSearchCV(estimator= model, param_grid = params,scoring= 'neg_root_mean_squared_error',cv=kfold )\n",
    "grid_result = grid.fit(X_all,y_all)"
   ]
  },
  {
   "cell_type": "code",
   "execution_count": 39,
   "id": "f111b55b",
   "metadata": {},
   "outputs": [
    {
     "name": "stdout",
     "output_type": "stream",
     "text": [
      "Best : -308.753596 using {'max_depth': 18, 'min_samples_leaf': 1, 'min_samples_split': 4, 'n_estimators': 50} \n"
     ]
    }
   ],
   "source": [
    "print(\"Best : %f using %s \"%(grid_result.best_score_,grid_result.best_params_))"
   ]
  },
  {
   "cell_type": "code",
   "execution_count": 40,
   "id": "3888aa55",
   "metadata": {},
   "outputs": [],
   "source": [
    "from sklearn.metrics import mean_squared_error\n",
    "import math "
   ]
  },
  {
   "cell_type": "code",
   "execution_count": 41,
   "id": "8490ce2a",
   "metadata": {},
   "outputs": [],
   "source": [
    "errors = []\n",
    "pred_valid=[]\n",
    "pred_test = []\n",
    "scaler = preprocessing.StandardScaler().fit(X_train)\n",
    "scaled_X_train = scaler.transform(X_train)\n",
    "scaled_X_valid = scaler.transform(X_valid)\n",
    "scaled_X_test = scaler.transform(test)"
   ]
  },
  {
   "cell_type": "code",
   "execution_count": 42,
   "id": "80bb9f62",
   "metadata": {},
   "outputs": [],
   "source": [
    "lasso = Lasso()\n",
    "lasso.fit(X_train,y_train)\n",
    "lasso_valid = lasso.predict(X_valid)\n",
    "rmse = math.sqrt(mean_squared_error(y_valid, lasso_valid))\n",
    "errors.append(('Lasso',rmse))\n",
    "pred_valid.append(('Lasso',lasso_valid))\n",
    "lasso_test = lasso.predict(test)\n",
    "pred_test.append(('Lasso',lasso_test))"
   ]
  },
  {
   "cell_type": "code",
   "execution_count": 43,
   "id": "0d38059f",
   "metadata": {},
   "outputs": [],
   "source": [
    "LR =LinearRegression()\n",
    "LR.fit(scaled_X_train,y_train)\n",
    "lr_valid = LR.predict(scaled_X_valid)\n",
    "rmse = math.sqrt(mean_squared_error(y_valid, lr_valid))\n",
    "errors.append(('LR',rmse))\n",
    "pred_valid.append(('LR',lr_valid))\n",
    "lr_test = LR.predict(scaled_X_test)\n",
    "pred_test.append(('LR',lr_test))"
   ]
  },
  {
   "cell_type": "code",
   "execution_count": 44,
   "id": "47b6e03d",
   "metadata": {},
   "outputs": [],
   "source": [
    "RF =RandomForestRegressor(max_depth= 6, min_samples_leaf= 6, min_samples_split= 20, n_estimators= 10)\n",
    "RF.fit(scaled_X_train,y_train)\n",
    "rf_valid = RF.predict(scaled_X_valid)\n",
    "rmse = math.sqrt(mean_squared_error(y_valid, rf_valid))\n",
    "errors.append(('RF',rmse))\n",
    "pred_valid.append(('RF',rf_valid))\n",
    "rf_test = RF.predict(scaled_X_test)\n",
    "pred_test.append(('RF',rf_test))"
   ]
  },
  {
   "cell_type": "code",
   "execution_count": 45,
   "id": "49a25cff",
   "metadata": {},
   "outputs": [],
   "source": [
    "ET =ExtraTreesRegressor(max_depth=24, min_samples_leaf= 1, min_samples_split= 2, n_estimators= 50)\n",
    "ET.fit(X_train,y_train)\n",
    "et_valid = ET.predict(X_valid)\n",
    "rmse = math.sqrt(mean_squared_error(y_valid, et_valid))\n",
    "errors.append(('ET',rmse))\n",
    "pred_valid.append(('ET',et_valid))\n",
    "et_test = ET.predict(test)\n",
    "pred_test.append(('ET',et_test))"
   ]
  },
  {
   "cell_type": "code",
   "execution_count": 46,
   "id": "efd14933",
   "metadata": {},
   "outputs": [
    {
     "name": "stdout",
     "output_type": "stream",
     "text": [
      "Learning rate set to 0.00858\n",
      "0:\tlearn: 773.3188232\ttest: 779.5634198\tbest: 779.5634198 (0)\ttotal: 1.14ms\tremaining: 11.4s\n",
      "Stopped by overfitting detector  (300 iterations wait)\n",
      "\n",
      "bestTest = 321.8123096\n",
      "bestIteration = 534\n",
      "\n",
      "Shrink model to first 535 iterations.\n"
     ]
    }
   ],
   "source": [
    "CAT = CatBoostRegressor(iterations=10000,random_state=7 \n",
    "           ,eval_metric=\"RMSE\")\n",
    "CAT.fit(X_train,y_train, eval_set=[(X_valid,y_valid)],early_stopping_rounds=300\n",
    "        ,verbose=1000 )\n",
    "cat_valid = CAT.predict(X_valid)\n",
    "rmse = math.sqrt(mean_squared_error(y_valid, cat_valid))\n",
    "errors.append(('CAT',rmse))\n",
    "pred_valid.append(('CAT',cat_valid))\n",
    "cat_test = CAT.predict(test)\n",
    "pred_test.append(('CAT',cat_test))"
   ]
  },
  {
   "cell_type": "code",
   "execution_count": 47,
   "id": "2c942db3",
   "metadata": {},
   "outputs": [
    {
     "name": "stdout",
     "output_type": "stream",
     "text": [
      "Lasso : 290.0820435953512\n",
      "LR : 294.25479332076395\n",
      "RF : 335.3346504960225\n",
      "ET : 313.2058463277993\n",
      "CAT : 321.8123095522918\n"
     ]
    }
   ],
   "source": [
    "for name, error in errors:\n",
    "  print(\"{} : {}\".format(name,error))"
   ]
  },
  {
   "cell_type": "code",
   "execution_count": 48,
   "id": "24021fb5",
   "metadata": {},
   "outputs": [
    {
     "data": {
      "text/plain": [
       "288.5206985495163"
      ]
     },
     "execution_count": 48,
     "metadata": {},
     "output_type": "execute_result"
    }
   ],
   "source": [
    "val= np.zeros(X_valid.shape[0])\n",
    "for name, pred in pred_valid:\n",
    "  val+= (0.2* pred)\n",
    "math.sqrt(mean_squared_error(y_valid, val))"
   ]
  },
  {
   "cell_type": "code",
   "execution_count": 49,
   "id": "fe1301f0",
   "metadata": {},
   "outputs": [
    {
     "data": {
      "text/plain": [
       "284.4719182504742"
      ]
     },
     "execution_count": 49,
     "metadata": {},
     "output_type": "execute_result"
    }
   ],
   "source": [
    "val= np.zeros(X_valid.shape[0])\n",
    "for name, pred in pred_valid:\n",
    "  if name == 'Lasso' or name=='LR' or name == 'ET' or name=='CAT':\n",
    "    val+= (0.25* pred)\n",
    "math.sqrt(mean_squared_error(y_valid, val))"
   ]
  },
  {
   "cell_type": "code",
   "execution_count": 53,
   "id": "22dac858",
   "metadata": {},
   "outputs": [
    {
     "data": {
      "text/plain": [
       "283.5400744489689"
      ]
     },
     "execution_count": 53,
     "metadata": {},
     "output_type": "execute_result"
    }
   ],
   "source": [
    "val= np.zeros(X_valid.shape[0])\n",
    "for name, pred in pred_valid:\n",
    "  if name == 'Lasso' or name=='LR' or name == 'ET':\n",
    "    val+= (0.33 * pred)\n",
    "math.sqrt(mean_squared_error(y_valid, val))"
   ]
  },
  {
   "cell_type": "code",
   "execution_count": 55,
   "id": "0e91e7b2",
   "metadata": {},
   "outputs": [],
   "source": [
    "test_val= np.zeros(test.shape[0])\n",
    "for name, pred in pred_test:\n",
    "  if name == 'Lasso' or name=='LR' or name == 'ET':\n",
    "    test_val+= (0.33* pred)"
   ]
  },
  {
   "cell_type": "code",
   "execution_count": 56,
   "id": "3cae0a27",
   "metadata": {},
   "outputs": [
    {
     "data": {
      "text/html": [
       "<div>\n",
       "<style scoped>\n",
       "    .dataframe tbody tr th:only-of-type {\n",
       "        vertical-align: middle;\n",
       "    }\n",
       "\n",
       "    .dataframe tbody tr th {\n",
       "        vertical-align: top;\n",
       "    }\n",
       "\n",
       "    .dataframe thead th {\n",
       "        text-align: right;\n",
       "    }\n",
       "</style>\n",
       "<table border=\"1\" class=\"dataframe\">\n",
       "  <thead>\n",
       "    <tr style=\"text-align: right;\">\n",
       "      <th></th>\n",
       "      <th>id</th>\n",
       "      <th>Body Mass (g)</th>\n",
       "    </tr>\n",
       "  </thead>\n",
       "  <tbody>\n",
       "    <tr>\n",
       "      <th>0</th>\n",
       "      <td>0</td>\n",
       "      <td>4168.63</td>\n",
       "    </tr>\n",
       "    <tr>\n",
       "      <th>1</th>\n",
       "      <td>1</td>\n",
       "      <td>5578.62</td>\n",
       "    </tr>\n",
       "    <tr>\n",
       "      <th>2</th>\n",
       "      <td>2</td>\n",
       "      <td>3567.59</td>\n",
       "    </tr>\n",
       "    <tr>\n",
       "      <th>3</th>\n",
       "      <td>3</td>\n",
       "      <td>3354.08</td>\n",
       "    </tr>\n",
       "    <tr>\n",
       "      <th>4</th>\n",
       "      <td>4</td>\n",
       "      <td>3386.62</td>\n",
       "    </tr>\n",
       "    <tr>\n",
       "      <th>...</th>\n",
       "      <td>...</td>\n",
       "      <td>...</td>\n",
       "    </tr>\n",
       "    <tr>\n",
       "      <th>223</th>\n",
       "      <td>223</td>\n",
       "      <td>3933.84</td>\n",
       "    </tr>\n",
       "    <tr>\n",
       "      <th>224</th>\n",
       "      <td>224</td>\n",
       "      <td>4736.05</td>\n",
       "    </tr>\n",
       "    <tr>\n",
       "      <th>225</th>\n",
       "      <td>225</td>\n",
       "      <td>4633.51</td>\n",
       "    </tr>\n",
       "    <tr>\n",
       "      <th>226</th>\n",
       "      <td>226</td>\n",
       "      <td>3905.89</td>\n",
       "    </tr>\n",
       "    <tr>\n",
       "      <th>227</th>\n",
       "      <td>227</td>\n",
       "      <td>4103.45</td>\n",
       "    </tr>\n",
       "  </tbody>\n",
       "</table>\n",
       "<p>228 rows × 2 columns</p>\n",
       "</div>"
      ],
      "text/plain": [
       "      id  Body Mass (g)\n",
       "0      0        4168.63\n",
       "1      1        5578.62\n",
       "2      2        3567.59\n",
       "3      3        3354.08\n",
       "4      4        3386.62\n",
       "..   ...            ...\n",
       "223  223        3933.84\n",
       "224  224        4736.05\n",
       "225  225        4633.51\n",
       "226  226        3905.89\n",
       "227  227        4103.45\n",
       "\n",
       "[228 rows x 2 columns]"
      ]
     },
     "execution_count": 56,
     "metadata": {},
     "output_type": "execute_result"
    }
   ],
   "source": [
    "ss['Body Mass (g)'] = test_val\n",
    "ss"
   ]
  },
  {
   "cell_type": "code",
   "execution_count": 57,
   "id": "4245fe64",
   "metadata": {},
   "outputs": [],
   "source": [
    "ss.to_csv('C:/Users/wnrrh/desktop/dacon/penguin/4model_ss.csv',index=False)"
   ]
  },
  {
   "cell_type": "code",
   "execution_count": null,
   "id": "ba975521",
   "metadata": {},
   "outputs": [],
   "source": []
  }
 ],
 "metadata": {
  "kernelspec": {
   "display_name": "Python 3 (ipykernel)",
   "language": "python",
   "name": "python3"
  },
  "language_info": {
   "codemirror_mode": {
    "name": "ipython",
    "version": 3
   },
   "file_extension": ".py",
   "mimetype": "text/x-python",
   "name": "python",
   "nbconvert_exporter": "python",
   "pygments_lexer": "ipython3",
   "version": "3.8.12"
  }
 },
 "nbformat": 4,
 "nbformat_minor": 5
}
