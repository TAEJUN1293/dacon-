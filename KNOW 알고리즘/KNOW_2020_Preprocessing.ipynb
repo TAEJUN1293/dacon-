{
 "cells": [
  {
   "cell_type": "code",
   "execution_count": 148,
   "id": "f40150b8",
   "metadata": {},
   "outputs": [],
   "source": [
    "import pandas as pd\n",
    "import numpy as np\n",
    "import matplotlib.pyplot as plt\n",
    "import os\n",
    "import warnings\n",
    "warnings.filterwarnings('ignore')\n",
    "warnings.filterwarnings(action = 'ignore')"
   ]
  },
  {
   "cell_type": "code",
   "execution_count": 153,
   "id": "4a95e42b",
   "metadata": {},
   "outputs": [],
   "source": [
    "train_2020 = pd.read_csv('C:/Users/wnrrh/desktop/dacon/KNOW 알고리즘/KNOW_data/train/KNOW_2020.csv')\n",
    "test_2020 =  pd.read_csv('C:/Users/wnrrh/desktop/dacon/KNOW 알고리즘/KNOW_data/test/KNOW_2020_test.csv')"
   ]
  },
  {
   "cell_type": "markdown",
   "id": "a6bbc7e9",
   "metadata": {},
   "source": [
    "# 결측치 처리하기"
   ]
  },
  {
   "cell_type": "code",
   "execution_count": 126,
   "id": "a1d9f793",
   "metadata": {},
   "outputs": [
    {
     "data": {
      "text/plain": [
       "idx         0\n",
       "saq1_1      0\n",
       "saq1_2      0\n",
       "saq2_1      0\n",
       "saq2_2      0\n",
       "           ..\n",
       "bq29        0\n",
       "bq30_1      0\n",
       "bq30_2      0\n",
       "bq30_3      0\n",
       "knowcode    0\n",
       "Length: 185, dtype: int64"
      ]
     },
     "execution_count": 126,
     "metadata": {},
     "output_type": "execute_result"
    }
   ],
   "source": [
    "train_2020.isnull().sum()"
   ]
  },
  {
   "cell_type": "code",
   "execution_count": 127,
   "id": "202c4e54",
   "metadata": {},
   "outputs": [
    {
     "data": {
      "text/plain": [
       "idx       0\n",
       "saq1_1    0\n",
       "saq1_2    0\n",
       "saq2_1    0\n",
       "saq2_2    0\n",
       "         ..\n",
       "bq28      0\n",
       "bq29      0\n",
       "bq30_1    0\n",
       "bq30_2    0\n",
       "bq30_3    0\n",
       "Length: 184, dtype: int64"
      ]
     },
     "execution_count": 127,
     "metadata": {},
     "output_type": "execute_result"
    }
   ],
   "source": [
    "test_2020.isnull().sum()"
   ]
  },
  {
   "cell_type": "markdown",
   "id": "dc7b0516",
   "metadata": {},
   "source": [
    "결측치가 전부 빈칸으로 표기되어 있음. >> NaN으로 표기 필요"
   ]
  },
  {
   "cell_type": "code",
   "execution_count": 128,
   "id": "52a02079",
   "metadata": {},
   "outputs": [],
   "source": [
    "for i in train_2020:\n",
    "    train_2020[i].replace(' ', np.nan, inplace = True)\n",
    "    if i != 'knowcode':\n",
    "        test_2020[i].replace(' ', np.nan, inplace = True)"
   ]
  },
  {
   "cell_type": "code",
   "execution_count": 129,
   "id": "cb08398c",
   "metadata": {},
   "outputs": [
    {
     "data": {
      "text/plain": [
       "idx            0\n",
       "saq1_1         0\n",
       "saq1_2       676\n",
       "saq2_1         0\n",
       "saq2_2       457\n",
       "            ... \n",
       "bq29           0\n",
       "bq30_1      1016\n",
       "bq30_2      1018\n",
       "bq30_3      7104\n",
       "knowcode       0\n",
       "Length: 185, dtype: int64"
      ]
     },
     "execution_count": 129,
     "metadata": {},
     "output_type": "execute_result"
    }
   ],
   "source": [
    "train_2020.isnull().sum()"
   ]
  },
  {
   "cell_type": "code",
   "execution_count": 130,
   "id": "e7a3ef9c",
   "metadata": {},
   "outputs": [
    {
     "data": {
      "text/plain": [
       "idx          0\n",
       "saq1_1       0\n",
       "saq1_2     683\n",
       "saq2_1       0\n",
       "saq2_2     456\n",
       "          ... \n",
       "bq28         6\n",
       "bq29         0\n",
       "bq30_1    1014\n",
       "bq30_2    1014\n",
       "bq30_3    7108\n",
       "Length: 184, dtype: int64"
      ]
     },
     "execution_count": 130,
     "metadata": {},
     "output_type": "execute_result"
    }
   ],
   "source": [
    "test_2020.isnull().sum()"
   ]
  },
  {
   "cell_type": "code",
   "execution_count": 131,
   "id": "5ac3a54c",
   "metadata": {},
   "outputs": [
    {
     "name": "stdout",
     "output_type": "stream",
     "text": [
      "<class 'pandas.core.frame.DataFrame'>\n",
      "RangeIndex: 8122 entries, 0 to 8121\n",
      "Columns: 185 entries, idx to knowcode\n",
      "dtypes: int64(129), object(56)\n",
      "memory usage: 11.5+ MB\n"
     ]
    }
   ],
   "source": [
    "# int형이 129, object형태가 56개\n",
    "train_2020.info()"
   ]
  },
  {
   "cell_type": "code",
   "execution_count": 132,
   "id": "8feff3f1",
   "metadata": {},
   "outputs": [
    {
     "data": {
      "text/html": [
       "<div>\n",
       "<style scoped>\n",
       "    .dataframe tbody tr th:only-of-type {\n",
       "        vertical-align: middle;\n",
       "    }\n",
       "\n",
       "    .dataframe tbody tr th {\n",
       "        vertical-align: top;\n",
       "    }\n",
       "\n",
       "    .dataframe thead th {\n",
       "        text-align: right;\n",
       "    }\n",
       "</style>\n",
       "<table border=\"1\" class=\"dataframe\">\n",
       "  <thead>\n",
       "    <tr style=\"text-align: right;\">\n",
       "      <th></th>\n",
       "      <th>idx</th>\n",
       "      <th>saq1_1</th>\n",
       "      <th>saq1_2</th>\n",
       "      <th>saq2_1</th>\n",
       "      <th>saq2_2</th>\n",
       "      <th>saq3_1</th>\n",
       "      <th>saq3_2</th>\n",
       "      <th>saq4_1</th>\n",
       "      <th>saq4_2</th>\n",
       "      <th>saq5_1</th>\n",
       "      <th>...</th>\n",
       "      <th>bq26</th>\n",
       "      <th>bq26_1</th>\n",
       "      <th>bq27_1</th>\n",
       "      <th>bq27_2</th>\n",
       "      <th>bq28</th>\n",
       "      <th>bq29</th>\n",
       "      <th>bq30_1</th>\n",
       "      <th>bq30_2</th>\n",
       "      <th>bq30_3</th>\n",
       "      <th>knowcode</th>\n",
       "    </tr>\n",
       "  </thead>\n",
       "  <tbody>\n",
       "    <tr>\n",
       "      <th>0</th>\n",
       "      <td>27127</td>\n",
       "      <td>4</td>\n",
       "      <td>4</td>\n",
       "      <td>4</td>\n",
       "      <td>4</td>\n",
       "      <td>4</td>\n",
       "      <td>5</td>\n",
       "      <td>4</td>\n",
       "      <td>5</td>\n",
       "      <td>3</td>\n",
       "      <td>...</td>\n",
       "      <td>4</td>\n",
       "      <td>간호학</td>\n",
       "      <td>1</td>\n",
       "      <td>1</td>\n",
       "      <td>1</td>\n",
       "      <td>40</td>\n",
       "      <td>4000</td>\n",
       "      <td>2600</td>\n",
       "      <td>NaN</td>\n",
       "      <td>304003</td>\n",
       "    </tr>\n",
       "    <tr>\n",
       "      <th>1</th>\n",
       "      <td>27128</td>\n",
       "      <td>5</td>\n",
       "      <td>6</td>\n",
       "      <td>5</td>\n",
       "      <td>6</td>\n",
       "      <td>4</td>\n",
       "      <td>5</td>\n",
       "      <td>4</td>\n",
       "      <td>5</td>\n",
       "      <td>4</td>\n",
       "      <td>...</td>\n",
       "      <td>4</td>\n",
       "      <td>기계공학</td>\n",
       "      <td>1</td>\n",
       "      <td>1</td>\n",
       "      <td>1</td>\n",
       "      <td>40</td>\n",
       "      <td>4000</td>\n",
       "      <td>3000</td>\n",
       "      <td>NaN</td>\n",
       "      <td>221401</td>\n",
       "    </tr>\n",
       "    <tr>\n",
       "      <th>2</th>\n",
       "      <td>27129</td>\n",
       "      <td>3</td>\n",
       "      <td>4</td>\n",
       "      <td>3</td>\n",
       "      <td>4</td>\n",
       "      <td>3</td>\n",
       "      <td>4</td>\n",
       "      <td>3</td>\n",
       "      <td>5</td>\n",
       "      <td>3</td>\n",
       "      <td>...</td>\n",
       "      <td>4</td>\n",
       "      <td>기계</td>\n",
       "      <td>1</td>\n",
       "      <td>1</td>\n",
       "      <td>1</td>\n",
       "      <td>48</td>\n",
       "      <td>4300</td>\n",
       "      <td>3000</td>\n",
       "      <td>NaN</td>\n",
       "      <td>815001</td>\n",
       "    </tr>\n",
       "    <tr>\n",
       "      <th>3</th>\n",
       "      <td>27130</td>\n",
       "      <td>4</td>\n",
       "      <td>5</td>\n",
       "      <td>2</td>\n",
       "      <td>3</td>\n",
       "      <td>3</td>\n",
       "      <td>3</td>\n",
       "      <td>4</td>\n",
       "      <td>5</td>\n",
       "      <td>3</td>\n",
       "      <td>...</td>\n",
       "      <td>4</td>\n",
       "      <td>보건학</td>\n",
       "      <td>1</td>\n",
       "      <td>1</td>\n",
       "      <td>1</td>\n",
       "      <td>40</td>\n",
       "      <td>3500</td>\n",
       "      <td>3300</td>\n",
       "      <td>NaN</td>\n",
       "      <td>304003</td>\n",
       "    </tr>\n",
       "    <tr>\n",
       "      <th>4</th>\n",
       "      <td>27131</td>\n",
       "      <td>5</td>\n",
       "      <td>6</td>\n",
       "      <td>4</td>\n",
       "      <td>5</td>\n",
       "      <td>3</td>\n",
       "      <td>5</td>\n",
       "      <td>4</td>\n",
       "      <td>4</td>\n",
       "      <td>4</td>\n",
       "      <td>...</td>\n",
       "      <td>4</td>\n",
       "      <td>건축설비공학</td>\n",
       "      <td>1</td>\n",
       "      <td>1</td>\n",
       "      <td>1</td>\n",
       "      <td>40</td>\n",
       "      <td>5700</td>\n",
       "      <td>2700</td>\n",
       "      <td>NaN</td>\n",
       "      <td>140201</td>\n",
       "    </tr>\n",
       "    <tr>\n",
       "      <th>...</th>\n",
       "      <td>...</td>\n",
       "      <td>...</td>\n",
       "      <td>...</td>\n",
       "      <td>...</td>\n",
       "      <td>...</td>\n",
       "      <td>...</td>\n",
       "      <td>...</td>\n",
       "      <td>...</td>\n",
       "      <td>...</td>\n",
       "      <td>...</td>\n",
       "      <td>...</td>\n",
       "      <td>...</td>\n",
       "      <td>...</td>\n",
       "      <td>...</td>\n",
       "      <td>...</td>\n",
       "      <td>...</td>\n",
       "      <td>...</td>\n",
       "      <td>...</td>\n",
       "      <td>...</td>\n",
       "      <td>...</td>\n",
       "      <td>...</td>\n",
       "    </tr>\n",
       "    <tr>\n",
       "      <th>8117</th>\n",
       "      <td>35244</td>\n",
       "      <td>4</td>\n",
       "      <td>6</td>\n",
       "      <td>3</td>\n",
       "      <td>5</td>\n",
       "      <td>3</td>\n",
       "      <td>3</td>\n",
       "      <td>1</td>\n",
       "      <td>NaN</td>\n",
       "      <td>5</td>\n",
       "      <td>...</td>\n",
       "      <td>6</td>\n",
       "      <td>지구과학</td>\n",
       "      <td>1</td>\n",
       "      <td>1</td>\n",
       "      <td>1</td>\n",
       "      <td>40</td>\n",
       "      <td>5100</td>\n",
       "      <td>4000</td>\n",
       "      <td>NaN</td>\n",
       "      <td>121105</td>\n",
       "    </tr>\n",
       "    <tr>\n",
       "      <th>8118</th>\n",
       "      <td>35245</td>\n",
       "      <td>3</td>\n",
       "      <td>4</td>\n",
       "      <td>4</td>\n",
       "      <td>5</td>\n",
       "      <td>2</td>\n",
       "      <td>4</td>\n",
       "      <td>4</td>\n",
       "      <td>6</td>\n",
       "      <td>1</td>\n",
       "      <td>...</td>\n",
       "      <td>4</td>\n",
       "      <td>광고학</td>\n",
       "      <td>1</td>\n",
       "      <td>1</td>\n",
       "      <td>1</td>\n",
       "      <td>45</td>\n",
       "      <td>3100</td>\n",
       "      <td>2600</td>\n",
       "      <td>NaN</td>\n",
       "      <td>26102</td>\n",
       "    </tr>\n",
       "    <tr>\n",
       "      <th>8119</th>\n",
       "      <td>35246</td>\n",
       "      <td>5</td>\n",
       "      <td>6</td>\n",
       "      <td>3</td>\n",
       "      <td>4</td>\n",
       "      <td>3</td>\n",
       "      <td>4</td>\n",
       "      <td>4</td>\n",
       "      <td>5</td>\n",
       "      <td>5</td>\n",
       "      <td>...</td>\n",
       "      <td>4</td>\n",
       "      <td>국문</td>\n",
       "      <td>1</td>\n",
       "      <td>1</td>\n",
       "      <td>1</td>\n",
       "      <td>40</td>\n",
       "      <td>8000</td>\n",
       "      <td>3000</td>\n",
       "      <td>NaN</td>\n",
       "      <td>31301</td>\n",
       "    </tr>\n",
       "    <tr>\n",
       "      <th>8120</th>\n",
       "      <td>35247</td>\n",
       "      <td>5</td>\n",
       "      <td>6</td>\n",
       "      <td>5</td>\n",
       "      <td>5</td>\n",
       "      <td>4</td>\n",
       "      <td>5</td>\n",
       "      <td>3</td>\n",
       "      <td>3</td>\n",
       "      <td>3</td>\n",
       "      <td>...</td>\n",
       "      <td>5</td>\n",
       "      <td>화학공학</td>\n",
       "      <td>1</td>\n",
       "      <td>1</td>\n",
       "      <td>1</td>\n",
       "      <td>40</td>\n",
       "      <td>5700</td>\n",
       "      <td>3200</td>\n",
       "      <td>NaN</td>\n",
       "      <td>154105</td>\n",
       "    </tr>\n",
       "    <tr>\n",
       "      <th>8121</th>\n",
       "      <td>35248</td>\n",
       "      <td>2</td>\n",
       "      <td>5</td>\n",
       "      <td>4</td>\n",
       "      <td>6</td>\n",
       "      <td>3</td>\n",
       "      <td>5</td>\n",
       "      <td>4</td>\n",
       "      <td>5</td>\n",
       "      <td>3</td>\n",
       "      <td>...</td>\n",
       "      <td>3</td>\n",
       "      <td>조리학</td>\n",
       "      <td>1</td>\n",
       "      <td>1</td>\n",
       "      <td>1</td>\n",
       "      <td>46</td>\n",
       "      <td>3700</td>\n",
       "      <td>2700</td>\n",
       "      <td>NaN</td>\n",
       "      <td>14201</td>\n",
       "    </tr>\n",
       "  </tbody>\n",
       "</table>\n",
       "<p>8122 rows × 185 columns</p>\n",
       "</div>"
      ],
      "text/plain": [
       "        idx  saq1_1 saq1_2  saq2_1 saq2_2  saq3_1 saq3_2  saq4_1 saq4_2  \\\n",
       "0     27127       4      4       4      4       4      5       4      5   \n",
       "1     27128       5      6       5      6       4      5       4      5   \n",
       "2     27129       3      4       3      4       3      4       3      5   \n",
       "3     27130       4      5       2      3       3      3       4      5   \n",
       "4     27131       5      6       4      5       3      5       4      4   \n",
       "...     ...     ...    ...     ...    ...     ...    ...     ...    ...   \n",
       "8117  35244       4      6       3      5       3      3       1    NaN   \n",
       "8118  35245       3      4       4      5       2      4       4      6   \n",
       "8119  35246       5      6       3      4       3      4       4      5   \n",
       "8120  35247       5      6       5      5       4      5       3      3   \n",
       "8121  35248       2      5       4      6       3      5       4      5   \n",
       "\n",
       "      saq5_1  ... bq26  bq26_1 bq27_1  bq27_2 bq28  bq29 bq30_1  bq30_2  \\\n",
       "0          3  ...    4     간호학      1       1    1    40   4000    2600   \n",
       "1          4  ...    4    기계공학      1       1    1    40   4000    3000   \n",
       "2          3  ...    4      기계      1       1    1    48   4300    3000   \n",
       "3          3  ...    4     보건학      1       1    1    40   3500    3300   \n",
       "4          4  ...    4  건축설비공학      1       1    1    40   5700    2700   \n",
       "...      ...  ...  ...     ...    ...     ...  ...   ...    ...     ...   \n",
       "8117       5  ...    6    지구과학      1       1    1    40   5100    4000   \n",
       "8118       1  ...    4     광고학      1       1    1    45   3100    2600   \n",
       "8119       5  ...    4      국문      1       1    1    40   8000    3000   \n",
       "8120       3  ...    5    화학공학      1       1    1    40   5700    3200   \n",
       "8121       3  ...    3     조리학      1       1    1    46   3700    2700   \n",
       "\n",
       "     bq30_3  knowcode  \n",
       "0       NaN    304003  \n",
       "1       NaN    221401  \n",
       "2       NaN    815001  \n",
       "3       NaN    304003  \n",
       "4       NaN    140201  \n",
       "...     ...       ...  \n",
       "8117    NaN    121105  \n",
       "8118    NaN     26102  \n",
       "8119    NaN     31301  \n",
       "8120    NaN    154105  \n",
       "8121    NaN     14201  \n",
       "\n",
       "[8122 rows x 185 columns]"
      ]
     },
     "execution_count": 132,
     "metadata": {},
     "output_type": "execute_result"
    }
   ],
   "source": [
    "# 결측치 있는 row 확인.\n",
    "train_2020[train_2020.isna().sum(axis=1) > 0]"
   ]
  },
  {
   "cell_type": "markdown",
   "id": "effeb2b9",
   "metadata": {},
   "source": [
    "모든 row에 결측치가 존재함."
   ]
  },
  {
   "cell_type": "markdown",
   "id": "7d0eddc5",
   "metadata": {},
   "source": [
    "## saq의 경우 saq1-1번 문항에서 1로 응답하면 saq1-2번은 null이어야함.\n",
    "\n",
    "## 반대로 saq1-1을 2~5로 응답한다면 saq1-2번 결측치가 있어선 안됨."
   ]
  },
  {
   "cell_type": "markdown",
   "id": "db49af18",
   "metadata": {},
   "source": [
    "# saq i-1을 1로 응답하고 2도 응답한 경우 처리"
   ]
  },
  {
   "cell_type": "code",
   "execution_count": 133,
   "id": "978cefce",
   "metadata": {},
   "outputs": [
    {
     "name": "stdout",
     "output_type": "stream",
     "text": [
      "40\n"
     ]
    }
   ],
   "source": [
    "# saq 40-1을 1로 응답하고 40-2번도 응답한 병ㅅ \n",
    "for i in range(1,45):\n",
    "    if len(train_2020.loc[lambda x: (x['saq'+str(i)+'_1'] == 1) & (x['saq'+str(i)+'_2'].notnull())]) != 0:\n",
    "        print(i)"
   ]
  },
  {
   "cell_type": "code",
   "execution_count": 134,
   "id": "3c2854ce",
   "metadata": {},
   "outputs": [
    {
     "data": {
      "text/html": [
       "<div>\n",
       "<style scoped>\n",
       "    .dataframe tbody tr th:only-of-type {\n",
       "        vertical-align: middle;\n",
       "    }\n",
       "\n",
       "    .dataframe tbody tr th {\n",
       "        vertical-align: top;\n",
       "    }\n",
       "\n",
       "    .dataframe thead th {\n",
       "        text-align: right;\n",
       "    }\n",
       "</style>\n",
       "<table border=\"1\" class=\"dataframe\">\n",
       "  <thead>\n",
       "    <tr style=\"text-align: right;\">\n",
       "      <th></th>\n",
       "      <th>idx</th>\n",
       "      <th>saq1_1</th>\n",
       "      <th>saq1_2</th>\n",
       "      <th>saq2_1</th>\n",
       "      <th>saq2_2</th>\n",
       "      <th>saq3_1</th>\n",
       "      <th>saq3_2</th>\n",
       "      <th>saq4_1</th>\n",
       "      <th>saq4_2</th>\n",
       "      <th>saq5_1</th>\n",
       "      <th>...</th>\n",
       "      <th>bq26</th>\n",
       "      <th>bq26_1</th>\n",
       "      <th>bq27_1</th>\n",
       "      <th>bq27_2</th>\n",
       "      <th>bq28</th>\n",
       "      <th>bq29</th>\n",
       "      <th>bq30_1</th>\n",
       "      <th>bq30_2</th>\n",
       "      <th>bq30_3</th>\n",
       "      <th>knowcode</th>\n",
       "    </tr>\n",
       "  </thead>\n",
       "  <tbody>\n",
       "    <tr>\n",
       "      <th>2177</th>\n",
       "      <td>29304</td>\n",
       "      <td>3</td>\n",
       "      <td>7</td>\n",
       "      <td>3</td>\n",
       "      <td>6</td>\n",
       "      <td>3</td>\n",
       "      <td>5</td>\n",
       "      <td>3</td>\n",
       "      <td>6</td>\n",
       "      <td>3</td>\n",
       "      <td>...</td>\n",
       "      <td>4</td>\n",
       "      <td>경영학</td>\n",
       "      <td>1</td>\n",
       "      <td>1</td>\n",
       "      <td>1</td>\n",
       "      <td>48</td>\n",
       "      <td>4500</td>\n",
       "      <td>2500</td>\n",
       "      <td>NaN</td>\n",
       "      <td>26301</td>\n",
       "    </tr>\n",
       "  </tbody>\n",
       "</table>\n",
       "<p>1 rows × 185 columns</p>\n",
       "</div>"
      ],
      "text/plain": [
       "        idx  saq1_1 saq1_2  saq2_1 saq2_2  saq3_1 saq3_2  saq4_1 saq4_2  \\\n",
       "2177  29304       3      7       3      6       3      5       3      6   \n",
       "\n",
       "      saq5_1  ... bq26  bq26_1 bq27_1  bq27_2 bq28  bq29 bq30_1  bq30_2  \\\n",
       "2177       3  ...    4     경영학      1       1    1    48   4500    2500   \n",
       "\n",
       "     bq30_3  knowcode  \n",
       "2177    NaN     26301  \n",
       "\n",
       "[1 rows x 185 columns]"
      ]
     },
     "execution_count": 134,
     "metadata": {},
     "output_type": "execute_result"
    }
   ],
   "source": [
    "train_2020.loc[lambda x: (x['saq'+str(40)+'_1'] == 1) & (x['saq'+str(40)+'_2'].notnull())] "
   ]
  },
  {
   "cell_type": "markdown",
   "id": "34b76f0c",
   "metadata": {},
   "source": [
    "위 새끼 40-2를 nan 처리"
   ]
  },
  {
   "cell_type": "code",
   "execution_count": 135,
   "id": "fe4c17b5",
   "metadata": {},
   "outputs": [],
   "source": [
    "train_2020.loc[lambda x: (x['saq'+str(40)+'_1'] == 1) & (x['saq'+str(40)+'_2'].notnull()), 'saq40_2'] = np.nan"
   ]
  },
  {
   "cell_type": "code",
   "execution_count": 136,
   "id": "97f6218c",
   "metadata": {},
   "outputs": [
    {
     "data": {
      "text/html": [
       "<div>\n",
       "<style scoped>\n",
       "    .dataframe tbody tr th:only-of-type {\n",
       "        vertical-align: middle;\n",
       "    }\n",
       "\n",
       "    .dataframe tbody tr th {\n",
       "        vertical-align: top;\n",
       "    }\n",
       "\n",
       "    .dataframe thead th {\n",
       "        text-align: right;\n",
       "    }\n",
       "</style>\n",
       "<table border=\"1\" class=\"dataframe\">\n",
       "  <thead>\n",
       "    <tr style=\"text-align: right;\">\n",
       "      <th></th>\n",
       "      <th>idx</th>\n",
       "      <th>saq1_1</th>\n",
       "      <th>saq1_2</th>\n",
       "      <th>saq2_1</th>\n",
       "      <th>saq2_2</th>\n",
       "      <th>saq3_1</th>\n",
       "      <th>saq3_2</th>\n",
       "      <th>saq4_1</th>\n",
       "      <th>saq4_2</th>\n",
       "      <th>saq5_1</th>\n",
       "      <th>...</th>\n",
       "      <th>bq26</th>\n",
       "      <th>bq26_1</th>\n",
       "      <th>bq27_1</th>\n",
       "      <th>bq27_2</th>\n",
       "      <th>bq28</th>\n",
       "      <th>bq29</th>\n",
       "      <th>bq30_1</th>\n",
       "      <th>bq30_2</th>\n",
       "      <th>bq30_3</th>\n",
       "      <th>knowcode</th>\n",
       "    </tr>\n",
       "  </thead>\n",
       "  <tbody>\n",
       "  </tbody>\n",
       "</table>\n",
       "<p>0 rows × 185 columns</p>\n",
       "</div>"
      ],
      "text/plain": [
       "Empty DataFrame\n",
       "Columns: [idx, saq1_1, saq1_2, saq2_1, saq2_2, saq3_1, saq3_2, saq4_1, saq4_2, saq5_1, saq5_2, saq6_1, saq6_2, saq7_1, saq7_2, saq8_1, saq8_2, saq9_1, saq9_2, saq10_1, saq10_2, saq11_1, saq11_2, saq12_1, saq12_2, saq13_1, saq13_2, saq14_1, saq14_2, saq15_1, saq15_2, saq16_1, saq16_2, saq17_1, saq17_2, saq18_1, saq18_2, saq19_1, saq19_2, saq20_1, saq20_2, saq21_1, saq21_2, saq22_1, saq22_2, saq23_1, saq23_2, saq24_1, saq24_2, saq25_1, saq25_2, saq26_1, saq26_2, saq27_1, saq27_2, saq28_1, saq28_2, saq29_1, saq29_2, saq30_1, saq30_2, saq31_1, saq31_2, saq32_1, saq32_2, saq33_1, saq33_2, saq34_1, saq34_2, saq35_1, saq35_2, saq36_1, saq36_2, saq37_1, saq37_2, saq38_1, saq38_2, saq39_1, saq39_2, saq40_1, saq40_2, saq41_1, saq41_2, saq42_1, saq42_2, saq43_1, saq43_2, saq44_1, saq44_2, vq1, vq2, vq3, vq4, vq5, vq6, vq7, vq8, vq9, vq10, vq11, ...]\n",
       "Index: []\n",
       "\n",
       "[0 rows x 185 columns]"
      ]
     },
     "execution_count": 136,
     "metadata": {},
     "output_type": "execute_result"
    }
   ],
   "source": [
    "train_2020.loc[lambda x: (x['saq'+str(40)+'_1'] == 1) & (x['saq'+str(40)+'_2'].notnull())] "
   ]
  },
  {
   "cell_type": "markdown",
   "id": "93db7d59",
   "metadata": {},
   "source": [
    "train set 처리 완료."
   ]
  },
  {
   "cell_type": "code",
   "execution_count": 137,
   "id": "99efd5dd",
   "metadata": {},
   "outputs": [],
   "source": [
    "# saqi-1을 1로 입력하고 saq1-2를 다 0으로 기입한 것은 다 0으로 처리\n",
    "for i in range(1,45):\n",
    "    train_2020.loc[lambda x: (x['saq'+str(i)+'_1'] == 1) & (x['saq'+str(i)+'_2'].isnull()), 'saq'+str(i)+'_2'] = 0"
   ]
  },
  {
   "cell_type": "code",
   "execution_count": 138,
   "id": "ac30e157",
   "metadata": {},
   "outputs": [],
   "source": [
    "for i in range(1,45):\n",
    "    if len(test_2020.loc[lambda x: (x['saq'+str(i)+'_1'] == 1) & (x['saq'+str(i)+'_2'].notnull())]) != 0:\n",
    "        print(i)"
   ]
  },
  {
   "cell_type": "markdown",
   "id": "eefb2033",
   "metadata": {},
   "source": [
    "test 셋에는 없는 것 확인."
   ]
  },
  {
   "cell_type": "markdown",
   "id": "fc191832",
   "metadata": {},
   "source": [
    "# saqi-1을 2~5로 응답하고 saqi-2가 공백인 경우\n"
   ]
  },
  {
   "cell_type": "code",
   "execution_count": 141,
   "id": "a2de3722",
   "metadata": {},
   "outputs": [],
   "source": [
    "# saq i-1을 2-5로 응답하고 i-2번 응답안한 병ㅅ \n",
    "for i in range(1,45):\n",
    "    if len(train_2020.loc[lambda x: (x['saq'+str(i)+'_1'] != 1) & (x['saq'+str(i)+'_2'].isnull())]) != 0:\n",
    "        print(i)"
   ]
  },
  {
   "cell_type": "markdown",
   "id": "dba340c1",
   "metadata": {},
   "source": [
    "train set엔 그런 병신 없음"
   ]
  },
  {
   "cell_type": "code",
   "execution_count": 142,
   "id": "f1c6ded7",
   "metadata": {},
   "outputs": [
    {
     "name": "stdout",
     "output_type": "stream",
     "text": [
      "40\n"
     ]
    }
   ],
   "source": [
    "for i in range(1,45):\n",
    "    if len(test_2020.loc[lambda x: (x['saq'+str(i)+'_1'] != 1) & (x['saq'+str(i)+'_2'].isnull())]) != 0:\n",
    "        print(i)"
   ]
  },
  {
   "cell_type": "markdown",
   "id": "e3a80c15",
   "metadata": {},
   "source": [
    "test set 이새끼 병신임."
   ]
  },
  {
   "cell_type": "code",
   "execution_count": 144,
   "id": "e6097675",
   "metadata": {},
   "outputs": [
    {
     "data": {
      "text/html": [
       "<div>\n",
       "<style scoped>\n",
       "    .dataframe tbody tr th:only-of-type {\n",
       "        vertical-align: middle;\n",
       "    }\n",
       "\n",
       "    .dataframe tbody tr th {\n",
       "        vertical-align: top;\n",
       "    }\n",
       "\n",
       "    .dataframe thead th {\n",
       "        text-align: right;\n",
       "    }\n",
       "</style>\n",
       "<table border=\"1\" class=\"dataframe\">\n",
       "  <thead>\n",
       "    <tr style=\"text-align: right;\">\n",
       "      <th></th>\n",
       "      <th>idx</th>\n",
       "      <th>saq1_1</th>\n",
       "      <th>saq1_2</th>\n",
       "      <th>saq2_1</th>\n",
       "      <th>saq2_2</th>\n",
       "      <th>saq3_1</th>\n",
       "      <th>saq3_2</th>\n",
       "      <th>saq4_1</th>\n",
       "      <th>saq4_2</th>\n",
       "      <th>saq5_1</th>\n",
       "      <th>...</th>\n",
       "      <th>bq25</th>\n",
       "      <th>bq26</th>\n",
       "      <th>bq26_1</th>\n",
       "      <th>bq27_1</th>\n",
       "      <th>bq27_2</th>\n",
       "      <th>bq28</th>\n",
       "      <th>bq29</th>\n",
       "      <th>bq30_1</th>\n",
       "      <th>bq30_2</th>\n",
       "      <th>bq30_3</th>\n",
       "    </tr>\n",
       "  </thead>\n",
       "  <tbody>\n",
       "    <tr>\n",
       "      <th>7136</th>\n",
       "      <td>34263</td>\n",
       "      <td>4</td>\n",
       "      <td>3</td>\n",
       "      <td>3</td>\n",
       "      <td>4</td>\n",
       "      <td>4</td>\n",
       "      <td>4</td>\n",
       "      <td>4</td>\n",
       "      <td>4</td>\n",
       "      <td>4</td>\n",
       "      <td>...</td>\n",
       "      <td>39</td>\n",
       "      <td>4</td>\n",
       "      <td>경영학</td>\n",
       "      <td>1</td>\n",
       "      <td>1</td>\n",
       "      <td>1</td>\n",
       "      <td>45</td>\n",
       "      <td>4500</td>\n",
       "      <td>3500</td>\n",
       "      <td>NaN</td>\n",
       "    </tr>\n",
       "  </tbody>\n",
       "</table>\n",
       "<p>1 rows × 184 columns</p>\n",
       "</div>"
      ],
      "text/plain": [
       "        idx  saq1_1 saq1_2  saq2_1 saq2_2  saq3_1 saq3_2  saq4_1 saq4_2  \\\n",
       "7136  34263       4      3       3      4       4      4       4      4   \n",
       "\n",
       "      saq5_1  ... bq25  bq26 bq26_1  bq27_1 bq27_2  bq28 bq29  bq30_1 bq30_2  \\\n",
       "7136       4  ...   39     4    경영학       1      1     1   45    4500   3500   \n",
       "\n",
       "      bq30_3  \n",
       "7136     NaN  \n",
       "\n",
       "[1 rows x 184 columns]"
      ]
     },
     "execution_count": 144,
     "metadata": {},
     "output_type": "execute_result"
    }
   ],
   "source": [
    "test_2020.loc[lambda x : (x['saq'+str(40)+'_1'] != 1) & (x['saq'+str(40)+'_2'].isnull())]"
   ]
  },
  {
   "cell_type": "code",
   "execution_count": 145,
   "id": "508180d4",
   "metadata": {},
   "outputs": [
    {
     "data": {
      "text/plain": [
       "4    1940\n",
       "3    1497\n",
       "5    1326\n",
       "2     816\n",
       "6     301\n",
       "1     122\n",
       "7      32\n",
       "Name: saq40_2, dtype: int64"
      ]
     },
     "execution_count": 145,
     "metadata": {},
     "output_type": "execute_result"
    }
   ],
   "source": [
    "test_2020['saq40_2'].value_counts()"
   ]
  },
  {
   "cell_type": "code",
   "execution_count": 146,
   "id": "ec15f7b6",
   "metadata": {},
   "outputs": [],
   "source": [
    "# 가장 많은 값인 4 입력\n",
    "test_2020.loc[lambda x : (x['saq'+str(40)+'_1'] != 1) & (x['saq'+str(40)+'_2'].isnull())] = 4"
   ]
  },
  {
   "cell_type": "code",
   "execution_count": 147,
   "id": "4824175c",
   "metadata": {},
   "outputs": [
    {
     "data": {
      "text/html": [
       "<div>\n",
       "<style scoped>\n",
       "    .dataframe tbody tr th:only-of-type {\n",
       "        vertical-align: middle;\n",
       "    }\n",
       "\n",
       "    .dataframe tbody tr th {\n",
       "        vertical-align: top;\n",
       "    }\n",
       "\n",
       "    .dataframe thead th {\n",
       "        text-align: right;\n",
       "    }\n",
       "</style>\n",
       "<table border=\"1\" class=\"dataframe\">\n",
       "  <thead>\n",
       "    <tr style=\"text-align: right;\">\n",
       "      <th></th>\n",
       "      <th>idx</th>\n",
       "      <th>saq1_1</th>\n",
       "      <th>saq1_2</th>\n",
       "      <th>saq2_1</th>\n",
       "      <th>saq2_2</th>\n",
       "      <th>saq3_1</th>\n",
       "      <th>saq3_2</th>\n",
       "      <th>saq4_1</th>\n",
       "      <th>saq4_2</th>\n",
       "      <th>saq5_1</th>\n",
       "      <th>...</th>\n",
       "      <th>bq25</th>\n",
       "      <th>bq26</th>\n",
       "      <th>bq26_1</th>\n",
       "      <th>bq27_1</th>\n",
       "      <th>bq27_2</th>\n",
       "      <th>bq28</th>\n",
       "      <th>bq29</th>\n",
       "      <th>bq30_1</th>\n",
       "      <th>bq30_2</th>\n",
       "      <th>bq30_3</th>\n",
       "    </tr>\n",
       "  </thead>\n",
       "  <tbody>\n",
       "  </tbody>\n",
       "</table>\n",
       "<p>0 rows × 184 columns</p>\n",
       "</div>"
      ],
      "text/plain": [
       "Empty DataFrame\n",
       "Columns: [idx, saq1_1, saq1_2, saq2_1, saq2_2, saq3_1, saq3_2, saq4_1, saq4_2, saq5_1, saq5_2, saq6_1, saq6_2, saq7_1, saq7_2, saq8_1, saq8_2, saq9_1, saq9_2, saq10_1, saq10_2, saq11_1, saq11_2, saq12_1, saq12_2, saq13_1, saq13_2, saq14_1, saq14_2, saq15_1, saq15_2, saq16_1, saq16_2, saq17_1, saq17_2, saq18_1, saq18_2, saq19_1, saq19_2, saq20_1, saq20_2, saq21_1, saq21_2, saq22_1, saq22_2, saq23_1, saq23_2, saq24_1, saq24_2, saq25_1, saq25_2, saq26_1, saq26_2, saq27_1, saq27_2, saq28_1, saq28_2, saq29_1, saq29_2, saq30_1, saq30_2, saq31_1, saq31_2, saq32_1, saq32_2, saq33_1, saq33_2, saq34_1, saq34_2, saq35_1, saq35_2, saq36_1, saq36_2, saq37_1, saq37_2, saq38_1, saq38_2, saq39_1, saq39_2, saq40_1, saq40_2, saq41_1, saq41_2, saq42_1, saq42_2, saq43_1, saq43_2, saq44_1, saq44_2, vq1, vq2, vq3, vq4, vq5, vq6, vq7, vq8, vq9, vq10, vq11, ...]\n",
       "Index: []\n",
       "\n",
       "[0 rows x 184 columns]"
      ]
     },
     "execution_count": 147,
     "metadata": {},
     "output_type": "execute_result"
    }
   ],
   "source": [
    "test_2020.loc[lambda x : (x['saq'+str(40)+'_1'] != 1) & (x['saq'+str(40)+'_2'].isnull())]"
   ]
  },
  {
   "cell_type": "markdown",
   "id": "ec1b5335",
   "metadata": {},
   "source": [
    "test 셋 처리 완료"
   ]
  },
  {
   "cell_type": "code",
   "execution_count": null,
   "id": "752c73fc",
   "metadata": {},
   "outputs": [],
   "source": []
  }
 ],
 "metadata": {
  "kernelspec": {
   "display_name": "Python 3 (ipykernel)",
   "language": "python",
   "name": "python3"
  },
  "language_info": {
   "codemirror_mode": {
    "name": "ipython",
    "version": 3
   },
   "file_extension": ".py",
   "mimetype": "text/x-python",
   "name": "python",
   "nbconvert_exporter": "python",
   "pygments_lexer": "ipython3",
   "version": "3.8.12"
  }
 },
 "nbformat": 4,
 "nbformat_minor": 5
}
